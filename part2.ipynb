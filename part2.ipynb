{
 "cells": [
  {
   "cell_type": "code",
   "execution_count": 1,
   "id": "54e69333",
   "metadata": {},
   "outputs": [],
   "source": [
    "from pathlib import Path\n",
    "import pandas as pd\n",
    "import numpy as np\n",
    "from sklearn import linear_model"
   ]
  },
  {
   "cell_type": "code",
   "execution_count": 2,
   "id": "d0ba28cd",
   "metadata": {},
   "outputs": [
    {
     "name": "stdout",
     "output_type": "stream",
     "text": [
      "[0.5 0.5]\n",
      "['x' 'y']\n"
     ]
    }
   ],
   "source": [
    "np.arange(0,10).reshape(1,-1)\n",
    "\n",
    "df = pd.DataFrame()\n",
    "df['x'] = np.arange(0,10)\n",
    "df['y'] = np.arange(0,10)\n",
    "df['z'] = np.arange(0,10)\n",
    "\n",
    "reg = linear_model.LinearRegression()\n",
    "reg.fit(df[['x','y']], df['z'])\n",
    "print(reg.coef_)\n",
    "print(reg.feature_names_in_)\n",
    "\n",
    "# for path in Path('./Models/Models').rglob('*.csv'):\n",
    "#     print(path.name)\n",
    "    \n",
    "    "
   ]
  },
  {
   "cell_type": "code",
   "execution_count": null,
   "id": "34280358",
   "metadata": {},
   "outputs": [],
   "source": []
  }
 ],
 "metadata": {
  "kernelspec": {
   "display_name": "Python 3 (ipykernel)",
   "language": "python",
   "name": "python3"
  },
  "language_info": {
   "codemirror_mode": {
    "name": "ipython",
    "version": 3
   },
   "file_extension": ".py",
   "mimetype": "text/x-python",
   "name": "python",
   "nbconvert_exporter": "python",
   "pygments_lexer": "ipython3",
   "version": "3.9.7"
  }
 },
 "nbformat": 4,
 "nbformat_minor": 5
}
