{
 "cells": [
  {
   "cell_type": "markdown",
   "id": "6c7aba70",
   "metadata": {},
   "source": [
    "# Notebook for phase two\n",
    "\n",
    "## Building an ensemble using pre-trained models\n",
    "\n",
    "Here we construct an ensemble, with the use case of predicting for new stations"
   ]
  },
  {
   "cell_type": "code",
   "execution_count": 8,
   "id": "2b849123",
   "metadata": {},
   "outputs": [],
   "source": [
    "from pathlib import Path\n",
    "import pandas as pd\n",
    "import numpy as np\n",
    "from sklearn import linear_model\n",
    "from sklearn.metrics import mean_absolute_error\n",
    "import matplotlib.pyplot as plt"
   ]
  },
  {
   "cell_type": "markdown",
   "id": "33acebcd",
   "metadata": {},
   "source": [
    "# Define some functions\n",
    "\n",
    "- replace_nan fills NaN values with column means. We don't use it but it was useful for exploratory analysis\n",
    "- show_nans is also for exploration\n",
    "- convert_weekdays moves weekday strings into integers from one to seven\n",
    "- score_abs_error takes a model with SKLEARN syntax and used it to predict the number of bikes based on input data, then return the mean absolute error. round_ specifies whether output should be rounded to integers.\n",
    "- reasonable_predictions is a bit redundant, taking a model and data and predicting\n"
   ]
  },
  {
   "cell_type": "code",
   "execution_count": 3,
   "id": "a57e5fb7",
   "metadata": {},
   "outputs": [],
   "source": [
    "# Adding all files into one DataFrame\n",
    "# converting weekdays into integers [1-7]\n",
    "def convert_weekdays(df):\n",
    "    df = df.replace(\n",
    "    ['Monday', 'Tuesday', 'Wednesday', 'Thursday', 'Friday', 'Saturday', 'Sunday'],\n",
    "    [1, 2, 3, 4, 5, 6, 7], inplace=True)\n",
    "\n",
    "\n",
    "df = []\n",
    "for path in Path('./Train/Train').rglob('*.csv'):\n",
    "    tmp = pd.read_csv(path)\n",
    "    # comment next line if not averaging NaNs  \n",
    "    # show_nans(tmp)\n",
    "    #replace_nan(tmp)\n",
    "    tmp = tmp.dropna(axis='rows')\n",
    "    df.append(tmp)\n",
    "\n",
    "df = pd.concat(df, ignore_index=True)\n",
    "\n",
    "convert_weekdays(df)\n",
    "\n",
    "x = df.iloc[:,:-1].to_numpy()\n",
    "y = df['bikes'].to_numpy()"
   ]
  },
  {
   "cell_type": "markdown",
   "id": "408aac25",
   "metadata": {},
   "source": [
    "## Build linear models\n",
    "\n",
    "This cell reads all of the model files and uses the values in each to build an sklearn linear regressor\n",
    "\n",
    "This lets us use the simple APIs of sklearn instead of uncessarily coding our own\n",
    "\n",
    "It also uses the data from the previous cell to measure the validation error of each model"
   ]
  },
  {
   "cell_type": "code",
   "execution_count": 7,
   "id": "47973ea4",
   "metadata": {},
   "outputs": [],
   "source": [
    "# Adding all files into one DataFrame\n",
    "all_columns = list(df.columns)\n",
    "\n",
    "models = []\n",
    "errors = []\n",
    "\n",
    "for path in Path('./Models/Models').rglob('*.csv'):\n",
    "    tmp = pd.read_csv(path)\n",
    "    # comment next line if not averaging NaNs  \n",
    "    # show_nans(tmp)\n",
    "    #replace_nan(tmp)\n",
    "    tmp = tmp.dropna(axis='rows')\n",
    "    features = tmp['feature']\n",
    "    weights = tmp['weight']\n",
    "    \n",
    "    weight_based = np.zeros((1, len(all_columns)))\n",
    "    model_frame = pd.DataFrame(data=weight_based, columns=all_columns)\n",
    "    \n",
    "    for i, f in enumerate(features):\n",
    "        model_frame[f] = weights[i]\n",
    "    \n",
    "    # removing intercept and bikes\n",
    "    final_weights = model_frame.iloc[0,:-2].to_numpy()\n",
    "    \n",
    "    intercept = model_frame.iloc[0,-1]\n",
    "    \n",
    "    model = linear_model.LinearRegression()\n",
    "    model.coef_ = final_weights\n",
    "    model.intercept_ = intercept    \n",
    "    \n",
    "    models.append(model)\n",
    "    \n",
    "    y_pred = model.predict(x)\n",
    "    errors.append(mean_absolute_error(y, y_pred))\n",
    "    # print(final_weights)\n",
    "    # print(intercept)"
   ]
  },
  {
   "cell_type": "code",
   "execution_count": 10,
   "id": "c8e13e32",
   "metadata": {},
   "outputs": [
    {
     "data": {
      "text/plain": [
       "(array([206., 301., 209., 131.,  87.,  65.,  34.,  42.,  29.,  21.,   9.,\n",
       "         15.,   5.,  10.,   6.,   6.,   6.,   4.,   0.,   6.,   0.,   0.,\n",
       "          0.,   0.,   6.,   0.,   0.,   0.,   0.,   2.]),\n",
       " array([2.65554842, 2.68152072, 2.70749302, 2.73346532, 2.75943762,\n",
       "        2.78540992, 2.81138222, 2.83735452, 2.86332682, 2.88929913,\n",
       "        2.91527143, 2.94124373, 2.96721603, 2.99318833, 3.01916063,\n",
       "        3.04513293, 3.07110523, 3.09707753, 3.12304983, 3.14902213,\n",
       "        3.17499443, 3.20096673, 3.22693903, 3.25291133, 3.27888363,\n",
       "        3.30485593, 3.33082823, 3.35680053, 3.38277283, 3.40874513,\n",
       "        3.43471743]),\n",
       " <BarContainer object of 30 artists>)"
      ]
     },
     "execution_count": 10,
     "metadata": {},
     "output_type": "execute_result"
    },
    {
     "data": {
      "image/png": "[encoded data removed]",
      "text/plain": [
       "<Figure size 432x288 with 1 Axes>"
      ]
     },
     "metadata": {
      "needs_background": "light"
     },
     "output_type": "display_data"
    }
   ],
   "source": [
    "plt.hist(errors, bins=30)"
   ]
  },
  {
   "cell_type": "code",
   "execution_count": 12,
   "id": "d91719be",
   "metadata": {},
   "outputs": [
    {
     "name": "stdout",
     "output_type": "stream",
     "text": [
      "1.0\n"
     ]
    },
    {
     "data": {
      "text/plain": [
       "(array([  2.,   0.,   0.,   0.,   6.,   0.,   0.,   0.,   5.,   1.,   4.,\n",
       "          6.,   5.,   7.,  10.,   3.,  15.,   9.,  17.,  18.,  40.,  32.,\n",
       "         43.,  58.,  72., 105., 138., 223., 226., 155.]),\n",
       " array([0.00066659, 0.00067311, 0.00067963, 0.00068615, 0.00069267,\n",
       "        0.00069919, 0.00070571, 0.00071222, 0.00071874, 0.00072526,\n",
       "        0.00073178, 0.0007383 , 0.00074482, 0.00075134, 0.00075786,\n",
       "        0.00076438, 0.0007709 , 0.00077742, 0.00078394, 0.00079046,\n",
       "        0.00079698, 0.0008035 , 0.00081002, 0.00081654, 0.00082306,\n",
       "        0.00082958, 0.0008361 , 0.00084261, 0.00084913, 0.00085565,\n",
       "        0.00086217]),\n",
       " <BarContainer object of 30 artists>)"
      ]
     },
     "execution_count": 12,
     "metadata": {},
     "output_type": "execute_result"
    },
    {
     "data": {
      "image/png": "[encoded data removed]",
      "text/plain": [
       "<Figure size 432x288 with 1 Axes>"
      ]
     },
     "metadata": {
      "needs_background": "light"
     },
     "output_type": "display_data"
    }
   ],
   "source": [
    "model_weights = np.array(errors)\n",
    "model_weights = 1 / model_weights\n",
    "model_weights = model_weights / np.sum(model_weights)\n",
    "# should equal 1\n",
    "print(np.sum(model_weights))\n",
    "\n",
    "plt.hist(model_weights, bins=30)"
   ]
  },
  {
   "cell_type": "code",
   "execution_count": 17,
   "id": "a00714c4",
   "metadata": {},
   "outputs": [
    {
     "data": {
      "text/plain": [
       "2.661009517493196"
      ]
     },
     "execution_count": 17,
     "metadata": {},
     "output_type": "execute_result"
    }
   ],
   "source": [
    "def ensemble_predict(models, model_weights, x):\n",
    "    results = np.zeros(x.shape[0])\n",
    "    \n",
    "    for i, m in enumerate(models):\n",
    "        results = results + m.predict(x) * model_weights[i]\n",
    "\n",
    "    return results\n",
    "\n",
    "y_pred = ensemble_predict(models, model_weights, x)\n",
    "\n",
    "mean_absolute_error(y, y_pred)"
   ]
  },
  {
   "cell_type": "code",
   "execution_count": 19,
   "id": "268a752a",
   "metadata": {},
   "outputs": [
    {
     "data": {
      "text/plain": [
       "(array([4.0000e+00, 6.0000e+00, 2.0000e+00, 1.1000e+01, 2.0000e+01,\n",
       "        1.8000e+01, 8.0000e+01, 1.5500e+02, 3.6800e+02, 8.6100e+02,\n",
       "        1.9020e+03, 4.1780e+03, 9.1370e+03, 1.2624e+04, 7.0290e+03,\n",
       "        3.2590e+03, 1.5900e+03, 7.0800e+02, 3.4300e+02, 1.6100e+02,\n",
       "        7.1000e+01, 4.0000e+01, 1.8000e+01, 5.0000e+00, 6.0000e+00,\n",
       "        2.0000e+00, 1.0000e+00, 0.0000e+00, 0.0000e+00, 1.0000e+00]),\n",
       " array([-26.81066715, -24.8019345 , -22.79320184, -20.78446919,\n",
       "        -18.77573653, -16.76700388, -14.75827123, -12.74953857,\n",
       "        -10.74080592,  -8.73207326,  -6.72334061,  -4.71460796,\n",
       "         -2.7058753 ,  -0.69714265,   1.31159001,   3.32032266,\n",
       "          5.32905531,   7.33778797,   9.34652062,  11.35525328,\n",
       "         13.36398593,  15.37271858,  17.38145124,  19.39018389,\n",
       "         21.39891655,  23.4076492 ,  25.41638185,  27.42511451,\n",
       "         29.43384716,  31.44257982,  33.45131247]),\n",
       " <BarContainer object of 30 artists>)"
      ]
     },
     "execution_count": 19,
     "metadata": {},
     "output_type": "execute_result"
    },
    {
     "data": {
      "image/png": "[encoded data removed]",
      "text/plain": [
       "<Figure size 432x288 with 1 Axes>"
      ]
     },
     "metadata": {
      "needs_background": "light"
     },
     "output_type": "display_data"
    }
   ],
   "source": [
    "plt.hist(y - y_pred, bins=30)"
   ]
  },
  {
   "cell_type": "code",
   "execution_count": null,
   "id": "07f798fa",
   "metadata": {},
   "outputs": [],
   "source": []
  }
 ],
 "metadata": {
  "kernelspec": {
   "display_name": "Python 3 (ipykernel)",
   "language": "python",
   "name": "python3"
  },
  "language_info": {
   "codemirror_mode": {
    "name": "ipython",
    "version": 3
   },
   "file_extension": ".py",
   "mimetype": "text/x-python",
   "name": "python",
   "nbconvert_exporter": "python",
   "pygments_lexer": "ipython3",
   "version": "3.9.7"
  }
 },
 "nbformat": 4,
 "nbformat_minor": 5
}
