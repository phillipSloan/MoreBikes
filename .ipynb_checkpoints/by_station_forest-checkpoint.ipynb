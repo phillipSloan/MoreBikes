{
 "cells": [
  {
   "cell_type": "code",
   "execution_count": 1,
   "id": "c539839a",
   "metadata": {},
   "outputs": [],
   "source": [
    "from pathlib import Path\n",
    "import pandas as pd\n",
    "import numpy as np\n",
    "\n",
    "from sklearn.ensemble import RandomForestRegressor, GradientBoostingRegressor, AdaBoostRegressor\n",
    "\n",
    "from sklearn.model_selection import train_test_split\n",
    "from sklearn.preprocessing import StandardScaler, RobustScaler\n",
    "\n",
    "from sklearn.metrics import mean_absolute_error\n",
    "from sklearn.svm import SVR"
   ]
  },
  {
   "cell_type": "code",
   "execution_count": 2,
   "id": "2a4d9d54",
   "metadata": {},
   "outputs": [],
   "source": [
    "def replace_nan(df):\n",
    "    # get a list of all the columns containing NaN\n",
    "    nan_cols = df[df.columns[df.isnull().any()]].columns\n",
    "    nan_cols = nan_cols.drop('bikes')\n",
    "    # compute and fill each NaN with the columns mean\n",
    "    df[nan_cols] = df[nan_cols].fillna(value=df[nan_cols].mean())\n",
    "\n",
    "    \n",
    "def show_nans(df):\n",
    "    print(np.unique(df['station']))\n",
    "    print(df.shape[0] - df.dropna().shape[0])\n",
    "#     print(df[df.columns[df.isnull().any()]].columns)\n",
    "    print(df.isnull().any())\n",
    "    print()\n",
    "    \n",
    "\n",
    "# converting weekdays into integers [1-7]\n",
    "def convert_weekdays(df):\n",
    "    df = df.replace(\n",
    "    ['Monday', 'Tuesday', 'Wednesday', 'Thursday', 'Friday', 'Saturday', 'Sunday'],\n",
    "    [1, 2, 3, 4, 5, 6, 7])\n",
    "    return df\n",
    "    \n",
    "def score_abs_error(model, data, num_docks, round_ = False):\n",
    "    if round_ == True:\n",
    "        y_pred = np.around(  model.predict(data.iloc[:,:-1].to_numpy()))# * num_docks  )\n",
    "    else:\n",
    "        y_pred = model.predict(data.iloc[:,:-1].to_numpy())# * num_docks\n",
    "    y_gold = data[\"bikes\"].to_numpy()# * num_docks\n",
    "    \n",
    "    return mean_absolute_error(y_gold, y_pred)\n",
    "\n",
    "def reasonable_predictions(model, data):\n",
    "    y_pred = model.predict(data.to_numpy())\n",
    "    \n",
    "    y_pred = np.around(y_pred)\n",
    "    return y_pred\n"
   ]
  },
  {
   "cell_type": "markdown",
   "id": "61b4835e",
   "metadata": {},
   "source": [
    "## This code is added"
   ]
  },
  {
   "cell_type": "code",
   "execution_count": 3,
   "id": "40fa654d",
   "metadata": {},
   "outputs": [
    {
     "name": "stdout",
     "output_type": "stream",
     "text": [
      "[1, 8]\n",
      "found val set two\n",
      "73\n"
     ]
    }
   ],
   "source": [
    "pd.options.mode.chained_assignment = None\n",
    "\n",
    "def is_hol_weekend(row):\n",
    "    if row['weekday'] == 6 or row['weekday'] == 7:\n",
    "        return 1\n",
    "    if row['isHoliday'] == 1:\n",
    "        return 1\n",
    "    if row['hour'] > 17 or row['hour'] < 9:\n",
    "        return 1\n",
    "    return 0\n",
    "\n",
    "def generate_dataframe(dataframe):\n",
    "    dataframe = convert_weekdays(dataframe)\n",
    "    \n",
    "    # # deleting unneeded columns\n",
    "    del dataframe[\"month\"]\n",
    "    del dataframe[\"year\"]\n",
    "    # del df[\"timestamp\"]\n",
    "    del dataframe[\"station\"]\n",
    "    del dataframe[\"precipitation.l.m2\"]\n",
    "    \n",
    "    del dataframe[\"latitude\"]\n",
    "    del dataframe[\"longitude\"]\n",
    "    \n",
    "    \n",
    "    default_columns = list(dataframe.columns)\n",
    "    \n",
    "    dataframe['isOff'] = dataframe.apply(is_hol_weekend,axis=1)\n",
    "    \n",
    "    default_columns = [\"isOff\"] + default_columns\n",
    "    \n",
    "    dataframe = dataframe[default_columns]\n",
    "    \n",
    "    print(dataframe.columns)\n",
    "    \n",
    "    del dataframe['isHoliday']\n",
    "    #del dataframe[\"timestamp\"]\n",
    "    \n",
    "    \n",
    "    columns = list(dataframe.columns[-6:])\n",
    "    \n",
    "    if \"bikes\" in columns:\n",
    "        pass\n",
    "    else:\n",
    "        columns = columns[1:]\n",
    "    \n",
    "#     print(columns)\n",
    "#     for c in columns:\n",
    "#         dataframe[c] = dataframe[c].to_numpy() / dataframe[\"numDocks\"].to_numpy()\n",
    "    num_docks = dataframe[\"numDocks\"]\n",
    "    \n",
    "    del dataframe[\"numDocks\"]\n",
    "    \n",
    "    return dataframe, num_docks\n",
    "\n",
    "def vectorise_dataframe(dataframe):\n",
    "    \n",
    "    # # deleting unneeded columns\n",
    "    del dataframe[\"month\"]\n",
    "    del dataframe[\"year\"]\n",
    "    #del dataframe[\"timestamp\"]\n",
    "    del dataframe[\"station\"]\n",
    "    del dataframe[\"precipitation.l.m2\"]\n",
    "    #del dataframe[\"weekhour\"]\n",
    "    \n",
    "    del dataframe[\"latitude\"]\n",
    "    del dataframe[\"longitude\"]\n",
    "    \n",
    "    \n",
    "    \n",
    "    default_columns = list(dataframe.columns)\n",
    "    #default_columns.remove('weekday')\n",
    "    dataframe['isOff'] = dataframe.apply(is_hol_weekend,axis=1)\n",
    "    \n",
    "    #dataframe = pd.get_dummies(dataframe, columns=['weekday'])\n",
    "    \n",
    "    #default_columns = [\"isOff\", \"weekday_Sunday\", \"weekday_Monday\", \"weekday_Tuesday\", \"weekday_Wednesday\", \n",
    "                      #\"weekday_Thursday\", \"weekday_Friday\", \"weekday_Saturday\"] + default_columns\n",
    "    \n",
    "    default_columns = [\"isOff\"] + default_columns\n",
    "    #del dataframe[\"weekday\"]\n",
    "    default_columns.remove('weekday')\n",
    "    #print(default_columns)\n",
    "    \n",
    "    \n",
    "    dataframe = dataframe[default_columns]\n",
    "    \n",
    "    #print(dataframe.columns)\n",
    "    \n",
    "    del dataframe['isHoliday']\n",
    "    #del dataframe[\"timestamp\"]\n",
    "    \n",
    "    \n",
    "    columns = list(dataframe.columns[-6:])\n",
    "    \n",
    "    if \"bikes\" in columns:\n",
    "        pass\n",
    "    else:\n",
    "        columns = columns[1:]\n",
    "    \n",
    "#     #print(columns)\n",
    "#     for c in columns:\n",
    "#         dataframe[c] = dataframe[c].to_numpy() / dataframe[\"numDocks\"].to_numpy()\n",
    "    num_docks = dataframe[\"numDocks\"]\n",
    "    \n",
    "    dataframe[\"numDocks\"]\n",
    "    \n",
    "    \n",
    "    \n",
    "    \n",
    "#     columns_kept = [\"weekday\", \"hour\", \"isOff\",  'full_profile_3h_diff_bikes', \n",
    "#                      'short_profile_3h_diff_bikes',  \"bikes\"] #'bikes_3h_ago',\n",
    "    \n",
    "#     for c in dataframe.columns:\n",
    "#         if c not in columns_kept:\n",
    "#             del dataframe[c]\n",
    "    \n",
    "    \n",
    "    return dataframe, num_docks\n",
    "\n",
    "# Adding all files into one DataFrame\n",
    "trains = []\n",
    "vals = []\n",
    "\n",
    "train_docks_list = []\n",
    "val_docks_list = []\n",
    "\n",
    "scalers = []\n",
    "count = 0\n",
    "for i, path in enumerate(Path('./Train/Train').rglob('*.csv')):\n",
    "    count += 1\n",
    "\n",
    "val_inds = list(np.random.randint(0, count - 1, 2))\n",
    "print(val_inds)\n",
    "\n",
    "for i, path in enumerate(Path('./Train/Train').rglob('*.csv')):\n",
    "    tmp = pd.read_csv(path)\n",
    "\n",
    "    tmp = tmp.dropna(axis='rows')\n",
    "    \n",
    "    #print(tmp.columns)\n",
    "\n",
    "    \n",
    "    if i  not in  val_inds:\n",
    "        train, val = train_test_split(tmp, test_size=0.02)\n",
    "\n",
    "        train, train_docks = vectorise_dataframe(train)\n",
    "        val, val_docks = vectorise_dataframe(val)\n",
    "\n",
    "        scaler = RobustScaler()\n",
    "        \n",
    "        train[train.columns[:-1]] = scaler.fit_transform(train[train.columns[:-1]])\n",
    "        val[val.columns[:-1]] = scaler.transform(val[val.columns[:-1]])\n",
    "\n",
    "        trains.append(train)\n",
    "        vals.append(val)\n",
    "\n",
    "        train_docks_list.append(train_docks)\n",
    "        val_docks_list.append(val_docks)\n",
    "\n",
    "        scalers.append(scaler)\n",
    "        \n",
    "        del tmp\n",
    "    elif i == val_inds[0]:\n",
    "        val_set = tmp.copy()\n",
    "\n",
    "\n",
    "        val_set, val_set_docks = vectorise_dataframe(val_set)\n",
    "    else:\n",
    "        print('found val set two')\n",
    "        val_set_two = tmp.copy()\n",
    "\n",
    "\n",
    "        val_set_two, val_set_docks_two = vectorise_dataframe(val_set_two)\n",
    "\n",
    "\n",
    "    \n",
    "    \n",
    "\n",
    "print(len(trains))"
   ]
  },
  {
   "cell_type": "code",
   "execution_count": 4,
   "id": "482a44a5",
   "metadata": {},
   "outputs": [],
   "source": [
    "# forest = RandomForestRegressor(n_estimators=500, n_jobs=6)\n",
    "# print(\"initialised\")\n",
    "# forest.fit(train.iloc[:,:-1].to_numpy(), train[\"bikes\"].to_numpy())\n",
    "\n",
    "# importances = forest.feature_importances_\n",
    "# imp_indixes = np.argsort(importances)[::-1]\n",
    "# feature_order = train.columns[:-1][imp_indixes]\n",
    "# importances = importances[imp_indixes]\n",
    "\n",
    "# imp_df = pd.DataFrame(data = importances, index = feature_order, columns=[\"relative_importance\"])\n",
    "\n",
    "# print(score_abs_error(forest, val, val_docks))\n",
    "\n",
    "# print(imp_df)"
   ]
  },
  {
   "cell_type": "markdown",
   "id": "eb020638",
   "metadata": {},
   "source": [
    "# Random elimination parameter tuning\n",
    "## Random forest regressor\n",
    "\n",
    "This cell uses `HalvingRandomSearchCV` to find near-optimal parameters for a random forest regressor. It takes a while to run with these parameters."
   ]
  },
  {
   "cell_type": "code",
   "execution_count": 5,
   "id": "d6a019dd",
   "metadata": {},
   "outputs": [
    {
     "name": "stdout",
     "output_type": "stream",
     "text": [
      "initialised\n"
     ]
    },
    {
     "name": "stderr",
     "output_type": "stream",
     "text": [
      "100%|████████████████████████████████████████████| 73/73 [00:08<00:00,  8.30it/s]"
     ]
    },
    {
     "name": "stdout",
     "output_type": "stream",
     "text": [
      "fitted in 8.80807113647461s\n"
     ]
    },
    {
     "name": "stderr",
     "output_type": "stream",
     "text": [
      "\n"
     ]
    }
   ],
   "source": [
    "from time import time\n",
    "from tqdm import tqdm\n",
    "start = time()\n",
    "print(\"initialised\")\n",
    "\n",
    "models = []\n",
    "\n",
    "for i in tqdm(range(len(trains))):\n",
    "    #forest_boost = AdaBoostRegressor(n_estimators=400, random_state=0, learning_rate = 0.5)\n",
    "    #forest_boost = RandomForestRegressor(n_estimators= 200, max_depth= 9)\n",
    "    forest_boost = GradientBoostingRegressor(n_estimators= 150, max_depth= 3, learning_rate= 0.1, loss=\"squared_error\")#\n",
    "    forest_boost.fit(trains[i].iloc[:,:-1].to_numpy(), trains[i][\"bikes\"].to_numpy())\n",
    "    \n",
    "    models.append(forest_boost)\n",
    "print(f'fitted in {time() - start}s')"
   ]
  },
  {
   "cell_type": "code",
   "execution_count": 6,
   "id": "3921140b",
   "metadata": {},
   "outputs": [
    {
     "name": "stderr",
     "output_type": "stream",
     "text": [
      "100%|██████████████████████████████████████████| 73/73 [00:00<00:00, 1296.01it/s]"
     ]
    },
    {
     "name": "stdout",
     "output_type": "stream",
     "text": [
      "Non-rounded ensemble error: 1.7244527597903994\n",
      "Rounded ensemble error: 1.697488584474886\n"
     ]
    },
    {
     "name": "stderr",
     "output_type": "stream",
     "text": [
      "\n"
     ]
    },
    {
     "data": {
      "image/png": "[encoded data removed]",
      "text/plain": [
       "<Figure size 432x288 with 1 Axes>"
      ]
     },
     "metadata": {
      "needs_background": "light"
     },
     "output_type": "display_data"
    },
    {
     "data": {
      "image/png": "[encoded data removed]",
      "text/plain": [
       "<Figure size 432x288 with 1 Axes>"
      ]
     },
     "metadata": {
      "needs_background": "light"
     },
     "output_type": "display_data"
    }
   ],
   "source": [
    "import matplotlib.pyplot as plt\n",
    "\n",
    "errors = []\n",
    "rounded_errors = []\n",
    "y_pred = []\n",
    "y_gold = []\n",
    "\n",
    "for i in tqdm(range(len(vals))):\n",
    "    errors.append(score_abs_error(models[i], vals[i], val_docks_list[i]))\n",
    "    rounded_errors.append(score_abs_error(models[i], vals[i], val_docks_list[i], round_ = True))\n",
    "    \n",
    "    pred = list(models[i].predict(vals[i].iloc[:, :-1].to_numpy()))# * val_docks_list[i])\n",
    "    \n",
    "    y_pred = y_pred + pred\n",
    "    \n",
    "    y_gold = y_gold + list(vals[i][\"bikes\"])# * val_docks_list[i])\n",
    "    \n",
    "print(f'Non-rounded ensemble error: {np.mean(errors)}')\n",
    "print(f'Rounded ensemble error: {np.mean(rounded_errors)}')\n",
    "\n",
    "plt.hist(np.array(y_pred) - np.array(y_gold), bins=30)\n",
    "plt.show()\n",
    "plt.hist(errors, bins=30)\n",
    "plt.show()"
   ]
  },
  {
   "cell_type": "code",
   "execution_count": 7,
   "id": "00d1f35a",
   "metadata": {},
   "outputs": [
    {
     "name": "stdout",
     "output_type": "stream",
     "text": [
      "Error on validation holdout: 7.843905537024595\n"
     ]
    },
    {
     "data": {
      "image/png": "[encoded data removed]",
      "text/plain": [
       "<Figure size 432x288 with 1 Axes>"
      ]
     },
     "metadata": {
      "needs_background": "light"
     },
     "output_type": "display_data"
    }
   ],
   "source": [
    "inds_best_models = np.argsort(errors)\n",
    "#print(models)\n",
    "best_model_ind = inds_best_models[0]\n",
    "best_model = models[best_model_ind]\n",
    "#print(best_model)\n",
    "\n",
    "\n",
    "\n",
    "best_pred = best_model.predict(val_set.iloc[:, :-1].to_numpy())# * val_set_docks\n",
    "val_gold = val_set[\"bikes\"]# * val_set_docks\n",
    "\n",
    "print(f'Error on validation holdout: {mean_absolute_error(val_gold, best_pred)}')\n",
    "\n",
    "plt.hist(np.array(val_gold) - np.array(best_pred), bins=30)\n",
    "plt.show()"
   ]
  },
  {
   "cell_type": "code",
   "execution_count": 8,
   "id": "a6df9247",
   "metadata": {},
   "outputs": [
    {
     "name": "stdout",
     "output_type": "stream",
     "text": [
      "1.0\n"
     ]
    },
    {
     "data": {
      "text/plain": [
       "(array([12., 11.,  9.,  7.,  8.,  4.,  5.,  3.,  0.,  3.,  0.,  3.,  0.,\n",
       "         1.,  0.,  0.,  2.,  0.,  1.,  0.,  1.,  1.,  0.,  0.,  1.,  0.,\n",
       "         0.,  0.,  0.,  1.]),\n",
       " array([0.00180858, 0.00391344, 0.0060183 , 0.00812316, 0.01022802,\n",
       "        0.01233288, 0.01443774, 0.0165426 , 0.01864746, 0.02075232,\n",
       "        0.02285718, 0.02496205, 0.02706691, 0.02917177, 0.03127663,\n",
       "        0.03338149, 0.03548635, 0.03759121, 0.03969607, 0.04180093,\n",
       "        0.04390579, 0.04601065, 0.04811551, 0.05022037, 0.05232523,\n",
       "        0.05443009, 0.05653495, 0.05863981, 0.06074467, 0.06284953,\n",
       "        0.06495439]),\n",
       " <BarContainer object of 30 artists>)"
      ]
     },
     "execution_count": 8,
     "metadata": {},
     "output_type": "execute_result"
    },
    {
     "data": {
      "image/png": "[encoded data removed]",
      "text/plain": [
       "<Figure size 432x288 with 1 Axes>"
      ]
     },
     "metadata": {
      "needs_background": "light"
     },
     "output_type": "display_data"
    }
   ],
   "source": [
    "model_weights = np.array(errors)\n",
    "model_weights = 1/ model_weights**(2)\n",
    "model_weights = model_weights / np.sum(model_weights)\n",
    "# should equal 1\n",
    "print(np.sum(model_weights))\n",
    "\n",
    "plt.hist(model_weights, bins=30)"
   ]
  },
  {
   "cell_type": "code",
   "execution_count": 9,
   "id": "17077365",
   "metadata": {},
   "outputs": [
    {
     "name": "stdout",
     "output_type": "stream",
     "text": [
      "['isOff' 'numDocks' 'timestamp' 'day' 'hour' 'weekhour' 'windMaxSpeed.m.s'\n",
      " 'windMeanSpeed.m.s' 'windDirection.grades' 'temperature.C'\n",
      " 'relHumidity.HR' 'airPressure.mb' 'bikes_3h_ago'\n",
      " 'full_profile_3h_diff_bikes' 'full_profile_bikes'\n",
      " 'short_profile_3h_diff_bikes' 'short_profile_bikes']\n",
      "Validation error pre re-tuning:  5.065540333565931\n",
      "[0.04741064 0.         0.02438581 0.00096835 0.02911054 0.04599714\n",
      " 0.00947585 0.00630231 0.01332334 0.02566405 0.01926179 0.0593764\n",
      " 0.09627141 0.04705673 0.3929376  0.02781086 0.15464719]\n"
     ]
    },
    {
     "data": {
      "image/png": "[encoded data removed]",
      "text/plain": [
       "<Figure size 432x288 with 1 Axes>"
      ]
     },
     "metadata": {
      "needs_background": "light"
     },
     "output_type": "display_data"
    }
   ],
   "source": [
    "def ensemble_validation_errors(models, scalers, x, y,  docks):\n",
    "    results = np.zeros(len(models))\n",
    "    \n",
    "    for i, m in enumerate(models):\n",
    "\n",
    "        x_i = scalers[i].transform(x)\n",
    "        \n",
    "        results[i] = mean_absolute_error(m.predict(x_i),y)# * docks, y*docks)\n",
    "\n",
    "    return results\n",
    "\n",
    "#print(trains[0].columns)\n",
    "#print(val_set.columns)\n",
    "print(scalers[0].feature_names_in_)\n",
    "\n",
    "validation_errors = ensemble_validation_errors(models, scalers, val_set.iloc[:, :-1], val_set[\"bikes\"], val_set_docks)\n",
    "\n",
    "print(f'Validation error pre re-tuning:  {np.mean(validation_errors)}')\n",
    "\n",
    "model_weights = model_weights / validation_errors**2\n",
    "model_weights = model_weights / np.sum(model_weights)\n",
    "\n",
    "print(models[0].feature_importances_)\n",
    "\n",
    "\n",
    "plt.hist(model_weights, bins=30)\n",
    "plt.show()"
   ]
  },
  {
   "cell_type": "code",
   "execution_count": 10,
   "id": "08cc3b31",
   "metadata": {},
   "outputs": [
    {
     "name": "stdout",
     "output_type": "stream",
     "text": [
      "3.173504904596231\n"
     ]
    },
    {
     "data": {
      "text/plain": [
       "(array([ 4.,  8.,  5., 12., 25., 37., 36., 35., 49., 41., 42., 31., 27.,\n",
       "        34., 28., 22., 27., 16., 18.,  6., 11., 11., 10.,  7.,  5.,  5.,\n",
       "         6.,  6.,  2.,  2.]),\n",
       " array([-7.98845064, -7.34255243, -6.69665423, -6.05075603, -5.40485782,\n",
       "        -4.75895962, -4.11306142, -3.46716322, -2.82126501, -2.17536681,\n",
       "        -1.52946861, -0.88357041, -0.2376722 ,  0.408226  ,  1.0541242 ,\n",
       "         1.70002241,  2.34592061,  2.99181881,  3.63771701,  4.28361522,\n",
       "         4.92951342,  5.57541162,  6.22130983,  6.86720803,  7.51310623,\n",
       "         8.15900443,  8.80490264,  9.45080084, 10.09669904, 10.74259725,\n",
       "        11.38849545]),\n",
       " <BarContainer object of 30 artists>)"
      ]
     },
     "execution_count": 10,
     "metadata": {},
     "output_type": "execute_result"
    },
    {
     "data": {
      "image/png": "[encoded data removed]",
      "text/plain": [
       "<Figure size 432x288 with 1 Axes>"
      ]
     },
     "metadata": {
      "needs_background": "light"
     },
     "output_type": "display_data"
    }
   ],
   "source": [
    "def ensemble_predict(models, scalers, model_weights, x):\n",
    "    results = np.zeros(x.shape[0])\n",
    "\n",
    "    for i, m in enumerate(models):\n",
    "\n",
    "        x_i = scalers[i].transform(x)\n",
    "        \n",
    "        results = results + m.predict(x_i) * model_weights[i]\n",
    "\n",
    "    return results\n",
    "\n",
    "y_pred = ensemble_predict(models, scalers, model_weights, val_set_two.iloc[:,:-1]) #* val_set_docks_two\n",
    "\n",
    "val_gold_two = val_set_two[\"bikes\"].to_numpy()# * val_set_docks_two\n",
    "\n",
    "print(mean_absolute_error(val_gold_two, y_pred))\n",
    "\n",
    "plt.hist(val_gold_two - y_pred, bins=30)\n",
    "\n"
   ]
  },
  {
   "cell_type": "markdown",
   "id": "34a07da2",
   "metadata": {},
   "source": [
    "(n_estimators= 100, min_samples_leaf= 5, max_depth= 5, learning_rate= 0.025, loss=\"absolute_error\") = 6.171106155700234"
   ]
  },
  {
   "cell_type": "markdown",
   "id": "a44abfaf",
   "metadata": {},
   "source": [
    "## Score tracking\n",
    "\n",
    " -  vectorized data, n_estimators= 10000, min_samples_leaf= 5, max_depth= 5, learning_rate= 0.005, verbose = 1, loss=\"absolute_error\", score 2.31, rounding integers 2.29\n",
    " \n",
    " - un-vectorized data, n_estimators= 10000, min_samples_leaf= 5, max_depth= 5, learning_rate= 0.005, verbose = 1, loss=\"absolute_error\", score 2.33, rounding integers 2.31\n",
    " \n",
    " - vectorized data, n_estimators= 1000, min_samples_leaf= 5, max_depth= 5, learning_rate= 0.005, 2.43, 2.42\n",
    " \n",
    " - un-vectorized data, n_estimators= 1000, min_samples_leaf= 5, max_depth= 5, learning_rate= 0.005, , loss=\"absolute_error\",  2.4, 2.38"
   ]
  },
  {
   "cell_type": "code",
   "execution_count": 11,
   "id": "9bed5677",
   "metadata": {},
   "outputs": [],
   "source": [
    "\n",
    "\n",
    "# results = pd.DataFrame(search.cv_results_)\n",
    "# results[\"params_str\"] = results.params.apply(str)\n",
    "# params = search.param_distributions\n",
    "# # results.drop_duplicates(subset=(\"params_str\", \"iter\"), inplace=True)\n",
    "# learning_rates = params[\"learning_rate\"]\n",
    "# mean_scores = results.pivot(\n",
    "#     index=\"iter\", columns=\"params_str\", values=\"mean_test_score\"\n",
    "# )\n",
    "\n",
    "# fig, ax = plt.subplots(figsize=(16,12))\n",
    "# mean_scores.plot(legend=False, alpha=0.6, ax = ax, linewidth=8)\n",
    "\n",
    "# labels = [\n",
    "#     f\"iter={i}\\nn_samples={search.n_resources_[i]} \\nn_candidates={search.n_candidates_[i]}\"# \\nn_estimators={params[\"n_estimators\"][i]} \"\n",
    "#     for i in range(search.n_iterations_)\n",
    "# ]\n",
    "\n",
    "# ax.set_xticks(range(search.n_iterations_))\n",
    "# ax.set_xticklabels(labels, rotation=45, multialignment=\"left\")\n",
    "# ax.set_title(\"Scores of candidates over iterations\")\n",
    "# ax.set_ylabel(\"mean test score\", fontsize=15)\n",
    "# ax.set_xlabel(\"iterations\", fontsize=15)\n",
    "# plt.tight_layout()\n",
    "# plt.show()\n"
   ]
  },
  {
   "cell_type": "code",
   "execution_count": 12,
   "id": "288dc2b3",
   "metadata": {},
   "outputs": [],
   "source": [
    "\n",
    "# n_est = 10000\n",
    "\n",
    "# import matplotlib.pyplot as plt\n",
    "# test_score = np.zeros((n_est,), dtype=np.float64)\n",
    "\n",
    "# y_test = val[\"bikes\"]\n",
    "# #y_pred = reasonable_predictions(forest_boost, val.iloc[:, :-1])\n",
    "\n",
    "# for i, y_pred in enumerate(forest_boost.staged_predict(val.iloc[:,:-1])):\n",
    "#     test_score[i] = forest_boost.loss_(y_test, y_pred)\n",
    "\n",
    "\n",
    "# fig = plt.figure(figsize=(12\n",
    "#                           , 12))\n",
    "# plt.subplot(1, 1, 1)\n",
    "# plt.title(\"Training and validation error\")\n",
    "# plt.plot(\n",
    "#     np.arange(n_est) + 1,\n",
    "#     forest_boost.train_score_,\n",
    "#     \"b-\",\n",
    "#     label=\"Training Set\",\n",
    "# )\n",
    "# plt.plot(\n",
    "#     np.arange(n_est) + 1, test_score, \"r-\", label=\"Validation Set\"\n",
    "# )\n",
    "# plt.legend(loc=\"upper right\")\n",
    "# plt.xlabel(\"Boosting Iterations\")\n",
    "# plt.ylabel(\"Absolute error\")\n",
    "# #plt.yscale('log')\n",
    "# fig.tight_layout()\n",
    "# plt.show()"
   ]
  },
  {
   "cell_type": "code",
   "execution_count": 13,
   "id": "db4a62d1",
   "metadata": {},
   "outputs": [],
   "source": [
    "# plt.figure(figsize=(8,8))\n",
    "# plt.hist(y_test*val_docks - forest_boost.predict(val.iloc[:,:-1])*val_docks, bins = 30)\n",
    "# plt.show()"
   ]
  },
  {
   "cell_type": "code",
   "execution_count": 14,
   "id": "8efdd3ef",
   "metadata": {},
   "outputs": [
    {
     "name": "stdout",
     "output_type": "stream",
     "text": [
      "[ 5.  6.  8. ...  8. 12. 10.]\n",
      "    bikes\n",
      "Id       \n",
      "1     5.0\n",
      "2     6.0\n",
      "3     8.0\n",
      "4     6.0\n",
      "5     6.0\n"
     ]
    }
   ],
   "source": [
    "test = pd.read_csv('test.csv')\n",
    "\n",
    "ids = test[\"Id\"]\n",
    "\n",
    "del test[\"Id\"]\n",
    "# del test[\"month\"]\n",
    "# del test[\"year\"]\n",
    "\n",
    "# convert_weekdays(test)\n",
    "# # test[test.columns] = scaler.fit_transform(test[test.columns])\n",
    "\n",
    "# for feature in lowest_ranked_10:\n",
    "#     del test[feature]\n",
    "    \n",
    "# print(test.columns)  \n",
    "# print(train.columns)\n",
    "\n",
    "test, test_docks = vectorise_dataframe(test)\n",
    "\n",
    "#y_pred = forest_boost.predict(test)\n",
    "y_pred = np.around(ensemble_predict(models, scalers, model_weights, test))\n",
    "\n",
    "print(y_pred)\n",
    "\n",
    "sub_df = pd.DataFrame(data=y_pred, index = ids, columns = [\"bikes\"])\n",
    "\n",
    "sub_df.index.name = 'Id'\n",
    "\n",
    "print(sub_df.head())\n",
    "\n",
    "sub_df.to_csv(\"submission.csv\")"
   ]
  },
  {
   "cell_type": "code",
   "execution_count": null,
   "id": "31c97277",
   "metadata": {},
   "outputs": [],
   "source": []
  }
 ],
 "metadata": {
  "kernelspec": {
   "display_name": "Python 3 (ipykernel)",
   "language": "python",
   "name": "python3"
  },
  "language_info": {
   "codemirror_mode": {
    "name": "ipython",
    "version": 3
   },
   "file_extension": ".py",
   "mimetype": "text/x-python",
   "name": "python",
   "nbconvert_exporter": "python",
   "pygments_lexer": "ipython3",
   "version": "3.9.7"
  }
 },
 "nbformat": 4,
 "nbformat_minor": 5
}
