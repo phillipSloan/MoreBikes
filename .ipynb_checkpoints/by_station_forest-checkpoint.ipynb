{
 "cells": [
  {
   "cell_type": "code",
   "execution_count": 1,
   "id": "91a657d1",
   "metadata": {},
   "outputs": [],
   "source": [
    "from pathlib import Path\n",
    "import pandas as pd\n",
    "import numpy as np\n",
    "\n",
    "from sklearn.ensemble import RandomForestRegressor, GradientBoostingRegressor, AdaBoostRegressor\n",
    "\n",
    "from sklearn.model_selection import train_test_split\n",
    "from sklearn.preprocessing import StandardScaler, RobustScaler\n",
    "\n",
    "from sklearn.metrics import mean_absolute_error\n",
    "from sklearn.svm import SVR"
   ]
  },
  {
   "cell_type": "code",
   "execution_count": 2,
   "id": "4ccbb95c",
   "metadata": {},
   "outputs": [],
   "source": [
    "def replace_nan(df):\n",
    "    # get a list of all the columns containing NaN\n",
    "    nan_cols = df[df.columns[df.isnull().any()]].columns\n",
    "    nan_cols = nan_cols.drop('bikes')\n",
    "    # compute and fill each NaN with the columns mean\n",
    "    df[nan_cols] = df[nan_cols].fillna(value=df[nan_cols].mean())\n",
    "\n",
    "    \n",
    "def show_nans(df):\n",
    "    print(np.unique(df['station']))\n",
    "    print(df.shape[0] - df.dropna().shape[0])\n",
    "#     print(df[df.columns[df.isnull().any()]].columns)\n",
    "    print(df.isnull().any())\n",
    "    print()\n",
    "    \n",
    "\n",
    "# converting weekdays into integers [1-7]\n",
    "def convert_weekdays(df):\n",
    "    df = df.replace(\n",
    "    ['Monday', 'Tuesday', 'Wednesday', 'Thursday', 'Friday', 'Saturday', 'Sunday'],\n",
    "    [1, 2, 3, 4, 5, 6, 7])\n",
    "    return df\n",
    "    \n",
    "def score_abs_error(model, data, num_docks, round_ = False):\n",
    "    if round_ == True:\n",
    "        y_pred = np.around(  model.predict(data.iloc[:,:-1].to_numpy()))# * num_docks  )\n",
    "    else:\n",
    "        y_pred = model.predict(data.iloc[:,:-1].to_numpy())# * num_docks\n",
    "    y_gold = data[\"bikes\"].to_numpy()# * num_docks\n",
    "    \n",
    "    return mean_absolute_error(y_gold, y_pred)\n",
    "\n",
    "def reasonable_predictions(model, data):\n",
    "    y_pred = model.predict(data.to_numpy())\n",
    "    \n",
    "    y_pred = np.around(y_pred)\n",
    "    return y_pred\n"
   ]
  },
  {
   "cell_type": "markdown",
   "id": "f76f5328",
   "metadata": {},
   "source": [
    "## This code is added"
   ]
  },
  {
   "cell_type": "code",
   "execution_count": 3,
   "id": "85236f72",
   "metadata": {},
   "outputs": [
    {
     "name": "stdout",
     "output_type": "stream",
     "text": [
      "73\n"
     ]
    }
   ],
   "source": [
    "pd.options.mode.chained_assignment = None\n",
    "\n",
    "def is_hol_weekend(row):\n",
    "    if row['weekday'] == 6 or row['weekday'] == 7:\n",
    "        return 1\n",
    "    if row['isHoliday'] == 1:\n",
    "        return 1\n",
    "    if row['hour'] > 17 or row['hour'] < 9:\n",
    "        return 1\n",
    "    return 0\n",
    "\n",
    "def generate_dataframe(dataframe):\n",
    "    dataframe = convert_weekdays(dataframe)\n",
    "    \n",
    "    # # deleting unneeded columns\n",
    "    del dataframe[\"month\"]\n",
    "    del dataframe[\"year\"]\n",
    "    # del df[\"timestamp\"]\n",
    "    del dataframe[\"station\"]\n",
    "    del dataframe[\"precipitation.l.m2\"]\n",
    "    \n",
    "    del dataframe[\"latitude\"]\n",
    "    del dataframe[\"longitude\"]\n",
    "    \n",
    "    \n",
    "    default_columns = list(dataframe.columns)\n",
    "    \n",
    "    dataframe['isOff'] = dataframe.apply(is_hol_weekend,axis=1)\n",
    "    \n",
    "    default_columns = [\"isOff\"] + default_columns\n",
    "    \n",
    "    dataframe = dataframe[default_columns]\n",
    "    \n",
    "    print(dataframe.columns)\n",
    "    \n",
    "    del dataframe['isHoliday']\n",
    "    #del dataframe[\"timestamp\"]\n",
    "    \n",
    "    \n",
    "    columns = list(dataframe.columns[-6:])\n",
    "    \n",
    "    if \"bikes\" in columns:\n",
    "        pass\n",
    "    else:\n",
    "        columns = columns[1:]\n",
    "    \n",
    "#     print(columns)\n",
    "#     for c in columns:\n",
    "#         dataframe[c] = dataframe[c].to_numpy() / dataframe[\"numDocks\"].to_numpy()\n",
    "    num_docks = dataframe[\"numDocks\"]\n",
    "    \n",
    "    del dataframe[\"numDocks\"]\n",
    "    \n",
    "    return dataframe, num_docks\n",
    "\n",
    "def vectorise_dataframe(dataframe):\n",
    "    \n",
    "    # # deleting unneeded columns\n",
    "    del dataframe[\"month\"]\n",
    "    del dataframe[\"year\"]\n",
    "    #del dataframe[\"timestamp\"]\n",
    "    del dataframe[\"station\"]\n",
    "    del dataframe[\"precipitation.l.m2\"]\n",
    "    #del dataframe[\"weekhour\"]\n",
    "    \n",
    "    del dataframe[\"latitude\"]\n",
    "    del dataframe[\"longitude\"]\n",
    "    \n",
    "    \n",
    "    \n",
    "    default_columns = list(dataframe.columns)\n",
    "    #default_columns.remove('weekday')\n",
    "    dataframe['isOff'] = dataframe.apply(is_hol_weekend,axis=1)\n",
    "    \n",
    "    #dataframe = pd.get_dummies(dataframe, columns=['weekday'])\n",
    "    \n",
    "    #default_columns = [\"isOff\", \"weekday_Sunday\", \"weekday_Monday\", \"weekday_Tuesday\", \"weekday_Wednesday\", \n",
    "                      #\"weekday_Thursday\", \"weekday_Friday\", \"weekday_Saturday\"] + default_columns\n",
    "    \n",
    "    default_columns = [\"isOff\"] + default_columns\n",
    "    #del dataframe[\"weekday\"]\n",
    "    default_columns.remove('weekday')\n",
    "    #print(default_columns)\n",
    "    \n",
    "    \n",
    "    dataframe = dataframe[default_columns]\n",
    "    \n",
    "    #print(dataframe.columns)\n",
    "    \n",
    "    del dataframe['isHoliday']\n",
    "    #del dataframe[\"timestamp\"]\n",
    "    \n",
    "    \n",
    "    columns = list(dataframe.columns[-6:])\n",
    "    \n",
    "    if \"bikes\" in columns:\n",
    "        pass\n",
    "    else:\n",
    "        columns = columns[1:]\n",
    "    \n",
    "#     #print(columns)\n",
    "#     for c in columns:\n",
    "#         dataframe[c] = dataframe[c].to_numpy() / dataframe[\"numDocks\"].to_numpy()\n",
    "    num_docks = dataframe[\"numDocks\"]\n",
    "    \n",
    "    dataframe[\"numDocks\"]\n",
    "    \n",
    "    \n",
    "    \n",
    "    \n",
    "#     columns_kept = [\"weekday\", \"hour\", \"isOff\",  'full_profile_3h_diff_bikes', \n",
    "#                      'short_profile_3h_diff_bikes',  \"bikes\"] #'bikes_3h_ago',\n",
    "    \n",
    "#     for c in dataframe.columns:\n",
    "#         if c not in columns_kept:\n",
    "#             del dataframe[c]\n",
    "    \n",
    "    \n",
    "    return dataframe, num_docks\n",
    "\n",
    "# Adding all files into one DataFrame\n",
    "trains = []\n",
    "vals = []\n",
    "\n",
    "train_docks_list = []\n",
    "val_docks_list = []\n",
    "\n",
    "scalers = []\n",
    "\n",
    "for i, path in enumerate(Path('./Train/Train').rglob('*.csv')):\n",
    "    tmp = pd.read_csv(path)\n",
    "\n",
    "    tmp = tmp.dropna(axis='rows')\n",
    "    \n",
    "    #print(tmp.columns)\n",
    "\n",
    "    \n",
    "    if i  > 1:\n",
    "        train, val = train_test_split(tmp, test_size=0.02)\n",
    "\n",
    "        train, train_docks = vectorise_dataframe(train)\n",
    "        val, val_docks = vectorise_dataframe(val)\n",
    "\n",
    "        scaler = RobustScaler()\n",
    "        \n",
    "        train[train.columns[:-1]] = scaler.fit_transform(train[train.columns[:-1]])\n",
    "        val[val.columns[:-1]] = scaler.transform(val[val.columns[:-1]])\n",
    "\n",
    "        trains.append(train)\n",
    "        vals.append(val)\n",
    "\n",
    "        train_docks_list.append(train_docks)\n",
    "        val_docks_list.append(val_docks)\n",
    "\n",
    "        scalers.append(scaler)\n",
    "        \n",
    "        del tmp\n",
    "    elif i == 0:\n",
    "        val_set = tmp.copy()\n",
    "\n",
    "\n",
    "        val_set, val_set_docks = vectorise_dataframe(val_set)\n",
    "    else:\n",
    "        val_set_two = tmp.copy()\n",
    "\n",
    "\n",
    "        val_set_two, val_set_docks_two = vectorise_dataframe(val_set_two)\n",
    "\n",
    "\n",
    "    \n",
    "    \n",
    "\n",
    "print(len(trains))"
   ]
  },
  {
   "cell_type": "code",
   "execution_count": 4,
   "id": "a459beef",
   "metadata": {},
   "outputs": [],
   "source": [
    "# forest = RandomForestRegressor(n_estimators=500, n_jobs=6)\n",
    "# print(\"initialised\")\n",
    "# forest.fit(train.iloc[:,:-1].to_numpy(), train[\"bikes\"].to_numpy())\n",
    "\n",
    "# importances = forest.feature_importances_\n",
    "# imp_indixes = np.argsort(importances)[::-1]\n",
    "# feature_order = train.columns[:-1][imp_indixes]\n",
    "# importances = importances[imp_indixes]\n",
    "\n",
    "# imp_df = pd.DataFrame(data = importances, index = feature_order, columns=[\"relative_importance\"])\n",
    "\n",
    "# print(score_abs_error(forest, val, val_docks))\n",
    "\n",
    "# print(imp_df)"
   ]
  },
  {
   "cell_type": "markdown",
   "id": "d551650f",
   "metadata": {},
   "source": [
    "# Random elimination parameter tuning\n",
    "## Random forest regressor\n",
    "\n",
    "This cell uses `HalvingRandomSearchCV` to find near-optimal parameters for a random forest regressor. It takes a while to run with these parameters."
   ]
  },
  {
   "cell_type": "code",
   "execution_count": 5,
   "id": "8be967da",
   "metadata": {},
   "outputs": [
    {
     "name": "stdout",
     "output_type": "stream",
     "text": [
      "initialised\n"
     ]
    },
    {
     "name": "stderr",
     "output_type": "stream",
     "text": [
      "100%|████████████████████████████████████████████| 73/73 [01:17<00:00,  1.06s/it]"
     ]
    },
    {
     "name": "stdout",
     "output_type": "stream",
     "text": [
      "fitted in 77.5194001197815s\n"
     ]
    },
    {
     "name": "stderr",
     "output_type": "stream",
     "text": [
      "\n"
     ]
    }
   ],
   "source": [
    "from time import time\n",
    "from tqdm import tqdm\n",
    "start = time()\n",
    "print(\"initialised\")\n",
    "\n",
    "models = []\n",
    "\n",
    "for i in tqdm(range(len(trains))):\n",
    "    #forest_boost = AdaBoostRegressor(n_estimators=400, random_state=0, learning_rate = 0.5)\n",
    "    forest_boost = RandomForestRegressor(n_estimators= 600, max_depth= 9)\n",
    "    #forest_boost = GradientBoostingRegressor(n_estimators= 600, max_depth= 7, learning_rate= 0.3, loss=\"squared_error\")#\n",
    "    forest_boost.fit(trains[i].iloc[:,:-1].to_numpy(), trains[i][\"bikes\"].to_numpy())\n",
    "    \n",
    "    models.append(forest_boost)\n",
    "print(f'fitted in {time() - start}s')"
   ]
  },
  {
   "cell_type": "code",
   "execution_count": 6,
   "id": "02cd70dc",
   "metadata": {},
   "outputs": [
    {
     "name": "stderr",
     "output_type": "stream",
     "text": [
      "100%|████████████████████████████████████████████| 73/73 [00:03<00:00, 19.85it/s]"
     ]
    },
    {
     "name": "stdout",
     "output_type": "stream",
     "text": [
      "Non-rounded ensemble error: 1.8703544095079807\n",
      "Rounded ensemble error: 1.8413242009132418\n"
     ]
    },
    {
     "name": "stderr",
     "output_type": "stream",
     "text": [
      "\n"
     ]
    },
    {
     "data": {
      "image/png": "[encoded data removed]",
      "text/plain": [
       "<Figure size 432x288 with 1 Axes>"
      ]
     },
     "metadata": {
      "needs_background": "light"
     },
     "output_type": "display_data"
    },
    {
     "data": {
      "image/png": "[encoded data removed]",
      "text/plain": [
       "<Figure size 432x288 with 1 Axes>"
      ]
     },
     "metadata": {
      "needs_background": "light"
     },
     "output_type": "display_data"
    }
   ],
   "source": [
    "import matplotlib.pyplot as plt\n",
    "\n",
    "errors = []\n",
    "rounded_errors = []\n",
    "y_pred = []\n",
    "y_gold = []\n",
    "\n",
    "for i in tqdm(range(len(vals))):\n",
    "    errors.append(score_abs_error(models[i], vals[i], val_docks_list[i]))\n",
    "    rounded_errors.append(score_abs_error(models[i], vals[i], val_docks_list[i], round_ = True))\n",
    "    \n",
    "    pred = list(models[i].predict(vals[i].iloc[:, :-1].to_numpy()))# * val_docks_list[i])\n",
    "    \n",
    "    y_pred = y_pred + pred\n",
    "    \n",
    "    y_gold = y_gold + list(vals[i][\"bikes\"])# * val_docks_list[i])\n",
    "    \n",
    "print(f'Non-rounded ensemble error: {np.mean(errors)}')\n",
    "print(f'Rounded ensemble error: {np.mean(rounded_errors)}')\n",
    "\n",
    "plt.hist(np.array(y_pred) - np.array(y_gold), bins=30)\n",
    "plt.show()\n",
    "plt.hist(errors, bins=30)\n",
    "plt.show()"
   ]
  },
  {
   "cell_type": "code",
   "execution_count": 7,
   "id": "26295707",
   "metadata": {},
   "outputs": [
    {
     "name": "stdout",
     "output_type": "stream",
     "text": [
      "Error on validation holdout: 5.581566850622865\n"
     ]
    },
    {
     "data": {
      "image/png": "[encoded data removed]",
      "text/plain": [
       "<Figure size 432x288 with 1 Axes>"
      ]
     },
     "metadata": {
      "needs_background": "light"
     },
     "output_type": "display_data"
    }
   ],
   "source": [
    "inds_best_models = np.argsort(errors)\n",
    "#print(models)\n",
    "best_model_ind = inds_best_models[0]\n",
    "best_model = models[best_model_ind]\n",
    "#print(best_model)\n",
    "\n",
    "\n",
    "\n",
    "best_pred = best_model.predict(val_set.iloc[:, :-1].to_numpy())# * val_set_docks\n",
    "val_gold = val_set[\"bikes\"]# * val_set_docks\n",
    "\n",
    "print(f'Error on validation holdout: {mean_absolute_error(val_gold, best_pred)}')\n",
    "\n",
    "plt.hist(np.array(val_gold) - np.array(best_pred), bins=30)\n",
    "plt.show()"
   ]
  },
  {
   "cell_type": "code",
   "execution_count": 8,
   "id": "c17f1a9f",
   "metadata": {},
   "outputs": [
    {
     "name": "stdout",
     "output_type": "stream",
     "text": [
      "1.0\n"
     ]
    },
    {
     "data": {
      "text/plain": [
       "(array([12., 16., 13.,  4.,  5.,  7.,  1.,  1.,  3.,  0.,  2.,  1.,  0.,\n",
       "         0.,  1.,  1.,  2.,  1.,  1.,  0.,  0.,  0.,  0.,  0.,  0.,  0.,\n",
       "         1.,  0.,  0.,  1.]),\n",
       " array([0.00123734, 0.00371612, 0.00619491, 0.00867369, 0.01115247,\n",
       "        0.01363126, 0.01611004, 0.01858882, 0.0210676 , 0.02354639,\n",
       "        0.02602517, 0.02850395, 0.03098274, 0.03346152, 0.0359403 ,\n",
       "        0.03841909, 0.04089787, 0.04337665, 0.04585544, 0.04833422,\n",
       "        0.050813  , 0.05329178, 0.05577057, 0.05824935, 0.06072813,\n",
       "        0.06320692, 0.0656857 , 0.06816448, 0.07064327, 0.07312205,\n",
       "        0.07560083]),\n",
       " <BarContainer object of 30 artists>)"
      ]
     },
     "execution_count": 8,
     "metadata": {},
     "output_type": "execute_result"
    },
    {
     "data": {
      "image/png": "[encoded data removed]",
      "text/plain": [
       "<Figure size 432x288 with 1 Axes>"
      ]
     },
     "metadata": {
      "needs_background": "light"
     },
     "output_type": "display_data"
    }
   ],
   "source": [
    "model_weights = np.array(errors)\n",
    "model_weights = 1/ model_weights**(2)\n",
    "model_weights = model_weights / np.sum(model_weights)\n",
    "# should equal 1\n",
    "print(np.sum(model_weights))\n",
    "\n",
    "plt.hist(model_weights, bins=30)"
   ]
  },
  {
   "cell_type": "code",
   "execution_count": 9,
   "id": "addf23f9",
   "metadata": {},
   "outputs": [
    {
     "name": "stdout",
     "output_type": "stream",
     "text": [
      "Index(['isOff', 'numDocks', 'timestamp', 'day', 'hour', 'weekhour',\n",
      "       'windMaxSpeed.m.s', 'windMeanSpeed.m.s', 'windDirection.grades',\n",
      "       'temperature.C', 'relHumidity.HR', 'airPressure.mb', 'bikes_3h_ago',\n",
      "       'full_profile_3h_diff_bikes', 'full_profile_bikes',\n",
      "       'short_profile_3h_diff_bikes', 'short_profile_bikes', 'bikes'],\n",
      "      dtype='object')\n",
      "Index(['isOff', 'numDocks', 'timestamp', 'day', 'hour', 'weekhour',\n",
      "       'windMaxSpeed.m.s', 'windMeanSpeed.m.s', 'windDirection.grades',\n",
      "       'temperature.C', 'relHumidity.HR', 'airPressure.mb', 'bikes_3h_ago',\n",
      "       'full_profile_3h_diff_bikes', 'full_profile_bikes',\n",
      "       'short_profile_3h_diff_bikes', 'short_profile_bikes', 'bikes'],\n",
      "      dtype='object')\n",
      "['isOff' 'numDocks' 'timestamp' 'day' 'hour' 'weekhour' 'windMaxSpeed.m.s'\n",
      " 'windMeanSpeed.m.s' 'windDirection.grades' 'temperature.C'\n",
      " 'relHumidity.HR' 'airPressure.mb' 'bikes_3h_ago'\n",
      " 'full_profile_3h_diff_bikes' 'full_profile_bikes'\n",
      " 'short_profile_3h_diff_bikes' 'short_profile_bikes']\n",
      "[0.00552926 0.         0.02458933 0.00817284 0.01921685 0.03737065\n",
      " 0.01364396 0.00665416 0.00919328 0.03244967 0.02057591 0.02622851\n",
      " 0.60055258 0.08280613 0.01675064 0.07906071 0.01720553]\n"
     ]
    },
    {
     "data": {
      "image/png": "[encoded data removed]",
      "text/plain": [
       "<Figure size 432x288 with 1 Axes>"
      ]
     },
     "metadata": {
      "needs_background": "light"
     },
     "output_type": "display_data"
    }
   ],
   "source": [
    "def ensemble_validation_errors(models, scalers, x, y,  docks):\n",
    "    results = np.zeros(len(models))\n",
    "    \n",
    "    for i, m in enumerate(models):\n",
    "\n",
    "        x_i = scalers[i].transform(x)\n",
    "        \n",
    "        results[i] = mean_absolute_error(m.predict(x_i),y)# * docks, y*docks)\n",
    "\n",
    "    return results\n",
    "\n",
    "print(trains[0].columns)\n",
    "print(val_set.columns)\n",
    "print(scalers[0].feature_names_in_)\n",
    "\n",
    "validation_errors = ensemble_validation_errors(models, scalers, val_set.iloc[:, :-1], val_set[\"bikes\"], val_set_docks)\n",
    "\n",
    "model_weights = model_weights / validation_errors\n",
    "model_weights = model_weights / np.sum(model_weights)\n",
    "\n",
    "print(models[0].feature_importances_)\n",
    "\n",
    "\n",
    "plt.hist(model_weights, bins=30)\n",
    "plt.show()"
   ]
  },
  {
   "cell_type": "code",
   "execution_count": 10,
   "id": "8f2e4078",
   "metadata": {},
   "outputs": [
    {
     "name": "stdout",
     "output_type": "stream",
     "text": [
      "4.234578875784552\n"
     ]
    },
    {
     "data": {
      "text/plain": [
       "(array([ 8., 11., 10.,  9., 12., 28., 44., 39., 42., 46., 42., 26., 25.,\n",
       "        23., 10., 18., 14., 13., 20., 20., 18., 11., 22., 14., 12.,  5.,\n",
       "         8.,  6.,  8.,  4.]),\n",
       " array([-8.51854634, -7.76708609, -7.01562583, -6.26416558, -5.51270533,\n",
       "        -4.76124508, -4.00978482, -3.25832457, -2.50686432, -1.75540407,\n",
       "        -1.00394381, -0.25248356,  0.49897669,  1.25043694,  2.0018972 ,\n",
       "         2.75335745,  3.5048177 ,  4.25627795,  5.00773821,  5.75919846,\n",
       "         6.51065871,  7.26211896,  8.01357922,  8.76503947,  9.51649972,\n",
       "        10.26795997, 11.01942023, 11.77088048, 12.52234073, 13.27380098,\n",
       "        14.02526124]),\n",
       " <BarContainer object of 30 artists>)"
      ]
     },
     "execution_count": 10,
     "metadata": {},
     "output_type": "execute_result"
    },
    {
     "data": {
      "image/png": "[encoded data removed]",
      "text/plain": [
       "<Figure size 432x288 with 1 Axes>"
      ]
     },
     "metadata": {
      "needs_background": "light"
     },
     "output_type": "display_data"
    }
   ],
   "source": [
    "def ensemble_predict(models, scalers, model_weights, x):\n",
    "    results = np.zeros(x.shape[0])\n",
    "\n",
    "    for i, m in enumerate(models):\n",
    "\n",
    "        x_i = scalers[i].transform(x)\n",
    "        \n",
    "        results = results + m.predict(x_i) * model_weights[i]\n",
    "\n",
    "    return results\n",
    "\n",
    "y_pred = ensemble_predict(models, scalers, model_weights, val_set_two.iloc[:,:-1]) #* val_set_docks_two\n",
    "\n",
    "val_gold_two = val_set_two[\"bikes\"].to_numpy()# * val_set_docks_two\n",
    "\n",
    "print(mean_absolute_error(val_gold_two, y_pred))\n",
    "\n",
    "plt.hist(val_gold_two - y_pred, bins=30)\n",
    "\n"
   ]
  },
  {
   "cell_type": "markdown",
   "id": "a3933809",
   "metadata": {},
   "source": [
    "(n_estimators= 100, min_samples_leaf= 5, max_depth= 5, learning_rate= 0.025, loss=\"absolute_error\") = 6.171106155700234"
   ]
  },
  {
   "cell_type": "markdown",
   "id": "76d0b064",
   "metadata": {},
   "source": [
    "## Score tracking\n",
    "\n",
    " -  vectorized data, n_estimators= 10000, min_samples_leaf= 5, max_depth= 5, learning_rate= 0.005, verbose = 1, loss=\"absolute_error\", score 2.31, rounding integers 2.29\n",
    " \n",
    " - un-vectorized data, n_estimators= 10000, min_samples_leaf= 5, max_depth= 5, learning_rate= 0.005, verbose = 1, loss=\"absolute_error\", score 2.33, rounding integers 2.31\n",
    " \n",
    " - vectorized data, n_estimators= 1000, min_samples_leaf= 5, max_depth= 5, learning_rate= 0.005, 2.43, 2.42\n",
    " \n",
    " - un-vectorized data, n_estimators= 1000, min_samples_leaf= 5, max_depth= 5, learning_rate= 0.005, , loss=\"absolute_error\",  2.4, 2.38"
   ]
  },
  {
   "cell_type": "code",
   "execution_count": 11,
   "id": "ee0c8756",
   "metadata": {},
   "outputs": [],
   "source": [
    "\n",
    "\n",
    "# results = pd.DataFrame(search.cv_results_)\n",
    "# results[\"params_str\"] = results.params.apply(str)\n",
    "# params = search.param_distributions\n",
    "# # results.drop_duplicates(subset=(\"params_str\", \"iter\"), inplace=True)\n",
    "# learning_rates = params[\"learning_rate\"]\n",
    "# mean_scores = results.pivot(\n",
    "#     index=\"iter\", columns=\"params_str\", values=\"mean_test_score\"\n",
    "# )\n",
    "\n",
    "# fig, ax = plt.subplots(figsize=(16,12))\n",
    "# mean_scores.plot(legend=False, alpha=0.6, ax = ax, linewidth=8)\n",
    "\n",
    "# labels = [\n",
    "#     f\"iter={i}\\nn_samples={search.n_resources_[i]} \\nn_candidates={search.n_candidates_[i]}\"# \\nn_estimators={params[\"n_estimators\"][i]} \"\n",
    "#     for i in range(search.n_iterations_)\n",
    "# ]\n",
    "\n",
    "# ax.set_xticks(range(search.n_iterations_))\n",
    "# ax.set_xticklabels(labels, rotation=45, multialignment=\"left\")\n",
    "# ax.set_title(\"Scores of candidates over iterations\")\n",
    "# ax.set_ylabel(\"mean test score\", fontsize=15)\n",
    "# ax.set_xlabel(\"iterations\", fontsize=15)\n",
    "# plt.tight_layout()\n",
    "# plt.show()\n"
   ]
  },
  {
   "cell_type": "code",
   "execution_count": 12,
   "id": "2ff1d2e0",
   "metadata": {},
   "outputs": [],
   "source": [
    "\n",
    "# n_est = 10000\n",
    "\n",
    "# import matplotlib.pyplot as plt\n",
    "# test_score = np.zeros((n_est,), dtype=np.float64)\n",
    "\n",
    "# y_test = val[\"bikes\"]\n",
    "# #y_pred = reasonable_predictions(forest_boost, val.iloc[:, :-1])\n",
    "\n",
    "# for i, y_pred in enumerate(forest_boost.staged_predict(val.iloc[:,:-1])):\n",
    "#     test_score[i] = forest_boost.loss_(y_test, y_pred)\n",
    "\n",
    "\n",
    "# fig = plt.figure(figsize=(12\n",
    "#                           , 12))\n",
    "# plt.subplot(1, 1, 1)\n",
    "# plt.title(\"Training and validation error\")\n",
    "# plt.plot(\n",
    "#     np.arange(n_est) + 1,\n",
    "#     forest_boost.train_score_,\n",
    "#     \"b-\",\n",
    "#     label=\"Training Set\",\n",
    "# )\n",
    "# plt.plot(\n",
    "#     np.arange(n_est) + 1, test_score, \"r-\", label=\"Validation Set\"\n",
    "# )\n",
    "# plt.legend(loc=\"upper right\")\n",
    "# plt.xlabel(\"Boosting Iterations\")\n",
    "# plt.ylabel(\"Absolute error\")\n",
    "# #plt.yscale('log')\n",
    "# fig.tight_layout()\n",
    "# plt.show()"
   ]
  },
  {
   "cell_type": "code",
   "execution_count": 13,
   "id": "ab1053f8",
   "metadata": {},
   "outputs": [
    {
     "ename": "NameError",
     "evalue": "name 'y_test' is not defined",
     "output_type": "error",
     "traceback": [
      "\u001b[0;31m---------------------------------------------------------------------------\u001b[0m",
      "\u001b[0;31mNameError\u001b[0m                                 Traceback (most recent call last)",
      "\u001b[0;32m/var/folders/lx/p5f6tjxn78d7x0yr11l1pm_h0000gn/T/ipykernel_5339/3835502828.py\u001b[0m in \u001b[0;36m<module>\u001b[0;34m\u001b[0m\n\u001b[1;32m      1\u001b[0m \u001b[0mplt\u001b[0m\u001b[0;34m.\u001b[0m\u001b[0mfigure\u001b[0m\u001b[0;34m(\u001b[0m\u001b[0mfigsize\u001b[0m\u001b[0;34m=\u001b[0m\u001b[0;34m(\u001b[0m\u001b[0;36m8\u001b[0m\u001b[0;34m,\u001b[0m\u001b[0;36m8\u001b[0m\u001b[0;34m)\u001b[0m\u001b[0;34m)\u001b[0m\u001b[0;34m\u001b[0m\u001b[0;34m\u001b[0m\u001b[0m\n\u001b[0;32m----> 2\u001b[0;31m \u001b[0mplt\u001b[0m\u001b[0;34m.\u001b[0m\u001b[0mhist\u001b[0m\u001b[0;34m(\u001b[0m\u001b[0my_test\u001b[0m\u001b[0;34m*\u001b[0m\u001b[0mval_docks\u001b[0m \u001b[0;34m-\u001b[0m \u001b[0mforest_boost\u001b[0m\u001b[0;34m.\u001b[0m\u001b[0mpredict\u001b[0m\u001b[0;34m(\u001b[0m\u001b[0mval\u001b[0m\u001b[0;34m.\u001b[0m\u001b[0miloc\u001b[0m\u001b[0;34m[\u001b[0m\u001b[0;34m:\u001b[0m\u001b[0;34m,\u001b[0m\u001b[0;34m:\u001b[0m\u001b[0;34m-\u001b[0m\u001b[0;36m1\u001b[0m\u001b[0;34m]\u001b[0m\u001b[0;34m)\u001b[0m\u001b[0;34m*\u001b[0m\u001b[0mval_docks\u001b[0m\u001b[0;34m,\u001b[0m \u001b[0mbins\u001b[0m \u001b[0;34m=\u001b[0m \u001b[0;36m30\u001b[0m\u001b[0;34m)\u001b[0m\u001b[0;34m\u001b[0m\u001b[0;34m\u001b[0m\u001b[0m\n\u001b[0m\u001b[1;32m      3\u001b[0m \u001b[0mplt\u001b[0m\u001b[0;34m.\u001b[0m\u001b[0mshow\u001b[0m\u001b[0;34m(\u001b[0m\u001b[0;34m)\u001b[0m\u001b[0;34m\u001b[0m\u001b[0;34m\u001b[0m\u001b[0m\n",
      "\u001b[0;31mNameError\u001b[0m: name 'y_test' is not defined"
     ]
    },
    {
     "data": {
      "text/plain": [
       "<Figure size 576x576 with 0 Axes>"
      ]
     },
     "metadata": {},
     "output_type": "display_data"
    }
   ],
   "source": [
    "plt.figure(figsize=(8,8))\n",
    "plt.hist(y_test*val_docks - forest_boost.predict(val.iloc[:,:-1])*val_docks, bins = 30)\n",
    "plt.show()"
   ]
  },
  {
   "cell_type": "code",
   "execution_count": null,
   "id": "03321e67",
   "metadata": {},
   "outputs": [],
   "source": [
    "test = pd.read_csv('test.csv')\n",
    "\n",
    "ids = test[\"Id\"]\n",
    "\n",
    "# del test[\"Id\"]\n",
    "# del test[\"month\"]\n",
    "# del test[\"year\"]\n",
    "\n",
    "# convert_weekdays(test)\n",
    "# # test[test.columns] = scaler.fit_transform(test[test.columns])\n",
    "\n",
    "# for feature in lowest_ranked_10:\n",
    "#     del test[feature]\n",
    "    \n",
    "# print(test.columns)  \n",
    "# print(train.columns)\n",
    "\n",
    "test, test_docks = generate_dataframe(test)\n",
    "\n",
    "#y_pred = forest_boost.predict(test)\n",
    "y_pred = reasonable_predictions(forest_boost, test) * test_docks\n",
    "\n",
    "sub_df = pd.DataFrame(data=y_pred, index = ids, columns = [\"bikes\"])\n",
    "\n",
    "sub_df.index.name = 'Id'\n",
    "\n",
    "print(sub_df.head())\n",
    "\n",
    "sub_df.to_csv(\"trial.csv\")"
   ]
  },
  {
   "cell_type": "code",
   "execution_count": null,
   "id": "de175a8d",
   "metadata": {},
   "outputs": [],
   "source": []
  }
 ],
 "metadata": {
  "kernelspec": {
   "display_name": "Python 3 (ipykernel)",
   "language": "python",
   "name": "python3"
  },
  "language_info": {
   "codemirror_mode": {
    "name": "ipython",
    "version": 3
   },
   "file_extension": ".py",
   "mimetype": "text/x-python",
   "name": "python",
   "nbconvert_exporter": "python",
   "pygments_lexer": "ipython3",
   "version": "3.9.7"
  }
 },
 "nbformat": 4,
 "nbformat_minor": 5
}
