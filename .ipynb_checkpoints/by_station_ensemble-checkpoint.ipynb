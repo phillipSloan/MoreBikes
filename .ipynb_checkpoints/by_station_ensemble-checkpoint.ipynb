{
 "cells": [
  {
   "cell_type": "markdown",
   "id": "c941f519",
   "metadata": {},
   "source": [
    "# Notebook for subtask-A of phase one\n",
    "\n",
    "## Fitting a model to each individual station\n",
    "\n",
    "Here we construct an ensemble, with the use case of predicting for new stations"
   ]
  },
  {
   "cell_type": "code",
   "execution_count": 1,
   "id": "e73b88a9",
   "metadata": {},
   "outputs": [],
   "source": [
    "from pathlib import Path\n",
    "import pandas as pd\n",
    "import numpy as np\n",
    "\n",
    "from sklearn.ensemble import RandomForestRegressor, GradientBoostingRegressor, AdaBoostRegressor\n",
    "\n",
    "from sklearn.model_selection import train_test_split\n",
    "from sklearn.preprocessing import StandardScaler, RobustScaler\n",
    "\n",
    "from sklearn.metrics import mean_absolute_error\n",
    "from sklearn.svm import SVR"
   ]
  },
  {
   "cell_type": "markdown",
   "id": "32eb9c42",
   "metadata": {},
   "source": [
    "# Define some functions\n",
    "\n",
    "- replace_nan fills NaN values with column means. We don't use it but it was useful for exploratory analysis\n",
    "- show_nans is also for exploration\n",
    "- convert_weekdays moves weekday strings into integers from one to seven\n",
    "- score_abs_error takes a model with SKLEARN syntax and used it to predict the number of bikes based on input data, then return the mean absolute error. round_ specifies whether output should be rounded to integers.\n",
    "- reasonable_predictions is a bit redundant, taking a model and data and predicting\n"
   ]
  },
  {
   "cell_type": "code",
   "execution_count": 2,
   "id": "361f428e",
   "metadata": {},
   "outputs": [],
   "source": [
    "def replace_nan(df):\n",
    "    # get a list of all the columns containing NaN\n",
    "    nan_cols = df[df.columns[df.isnull().any()]].columns\n",
    "    nan_cols = nan_cols.drop('bikes')\n",
    "    # compute and fill each NaN with the columns mean\n",
    "    df[nan_cols] = df[nan_cols].fillna(value=df[nan_cols].mean())\n",
    "\n",
    "    \n",
    "def show_nans(df):\n",
    "    print(np.unique(df['station']))\n",
    "    print(df.shape[0] - df.dropna().shape[0])\n",
    "#     print(df[df.columns[df.isnull().any()]].columns)\n",
    "    print(df.isnull().any())\n",
    "    print()\n",
    "    \n",
    "\n",
    "# converting weekdays into integers [1-7]\n",
    "def convert_weekdays(df):\n",
    "    df = df.replace(\n",
    "    ['Monday', 'Tuesday', 'Wednesday', 'Thursday', 'Friday', 'Saturday', 'Sunday'],\n",
    "    [1, 2, 3, 4, 5, 6, 7])\n",
    "    return df\n",
    "    \n",
    "def score_abs_error(model, data, num_docks, round_ = False):\n",
    "    if round_ == True:\n",
    "        y_pred = np.around(  model.predict(data.iloc[:,:-1].to_numpy()))# * num_docks  )\n",
    "    else:\n",
    "        y_pred = model.predict(data.iloc[:,:-1].to_numpy())# * num_docks\n",
    "    y_gold = data[\"bikes\"].to_numpy()# * num_docks\n",
    "    \n",
    "    return mean_absolute_error(y_gold, y_pred)\n",
    "\n",
    "def reasonable_predictions(model, data):\n",
    "    y_pred = model.predict(data.to_numpy())\n",
    "    \n",
    "    y_pred = np.around(y_pred)\n",
    "    return y_pred\n"
   ]
  },
  {
   "cell_type": "markdown",
   "id": "60fb0834",
   "metadata": {},
   "source": [
    "The next cell has functions to remove unwanted features, add our new isOff feature. \n",
    "\n",
    "It reads all the training files and builds collections of training sets, validation sets, and scalers for each station."
   ]
  },
  {
   "cell_type": "code",
   "execution_count": 3,
   "id": "7e71e094",
   "metadata": {},
   "outputs": [
    {
     "name": "stdout",
     "output_type": "stream",
     "text": [
      "[0, 51]\n",
      "found val set two\n"
     ]
    }
   ],
   "source": [
    "pd.options.mode.chained_assignment = None\n",
    "\n",
    "def is_hol_weekend(row):\n",
    "    if row['weekday'] == 6 or row['weekday'] == 7:\n",
    "        return 1\n",
    "    if row['isHoliday'] == 1:\n",
    "        return 1\n",
    "    if row['hour'] > 17 or row['hour'] < 9:\n",
    "        return 1\n",
    "    return 0\n",
    "\n",
    "def generate_dataframe(dataframe):\n",
    "    dataframe = convert_weekdays(dataframe)\n",
    "    \n",
    "    del dataframe[\"month\"]\n",
    "    del dataframe[\"year\"]\n",
    "    del dataframe[\"station\"]\n",
    "    del dataframe[\"precipitation.l.m2\"]\n",
    "    \n",
    "    del dataframe[\"latitude\"]\n",
    "    del dataframe[\"longitude\"]\n",
    "    \n",
    "    \n",
    "    default_columns = list(dataframe.columns)\n",
    "    \n",
    "    dataframe['isOff'] = dataframe.apply(is_hol_weekend,axis=1)\n",
    "    \n",
    "    default_columns = [\"isOff\"] + default_columns\n",
    "    \n",
    "    dataframe = dataframe[default_columns]\n",
    "    \n",
    "    print(dataframe.columns)\n",
    "    \n",
    "    del dataframe['isHoliday']\n",
    "    \n",
    "    \n",
    "    columns = list(dataframe.columns[-6:])\n",
    "    \n",
    "    if \"bikes\" in columns:\n",
    "        pass\n",
    "    else:\n",
    "        columns = columns[1:]\n",
    "    \n",
    "    num_docks = dataframe[\"numDocks\"]\n",
    "    \n",
    "    del dataframe[\"numDocks\"]\n",
    "    \n",
    "    return dataframe, num_docks\n",
    "\n",
    "def prepare_dataframe(dataframe):\n",
    "    \n",
    "    # # deleting unneeded columns\n",
    "    del dataframe[\"month\"]\n",
    "    del dataframe[\"year\"]\n",
    "    del dataframe[\"station\"]\n",
    "    del dataframe[\"precipitation.l.m2\"]\n",
    "    \n",
    "    del dataframe[\"latitude\"]\n",
    "    del dataframe[\"longitude\"]\n",
    "    \n",
    "    \n",
    "    \n",
    "    default_columns = list(dataframe.columns)\n",
    "    dataframe['isOff'] = dataframe.apply(is_hol_weekend,axis=1)\n",
    "\n",
    "    default_columns = [\"isOff\"] + default_columns\n",
    "    default_columns.remove('weekday')\n",
    "    \n",
    "    \n",
    "    dataframe = dataframe[default_columns]\n",
    "\n",
    "    del dataframe['isHoliday']\n",
    "    \n",
    "    \n",
    "    columns = list(dataframe.columns[-6:])\n",
    "    \n",
    "    if \"bikes\" in columns:\n",
    "        pass\n",
    "    else:\n",
    "        columns = columns[1:]\n",
    "\n",
    "    num_docks = dataframe[\"numDocks\"]\n",
    "    \n",
    "    dataframe[\"numDocks\"]\n",
    "\n",
    "    return dataframe, num_docks\n",
    "\n",
    "\n",
    "trains = []\n",
    "vals = []\n",
    "\n",
    "train_docks_list = []\n",
    "val_docks_list = []\n",
    "\n",
    "scalers = []\n",
    "count = 0\n",
    "for i, path in enumerate(Path('./Train/Train').rglob('*.csv')):\n",
    "    count += 1\n",
    "\n",
    "val_inds = list(np.random.randint(0, count - 1, 2))\n",
    "print(f'Stations kept as holdout: {200 + val_inds}')\n",
    "val_inds = list(val_inds)\n",
    "\n",
    "\n",
    "for i, path in enumerate(Path('./Train/Train').rglob('*.csv')):\n",
    "    tmp = pd.read_csv(path)\n",
    "\n",
    "    tmp = tmp.dropna(axis='rows')\n",
    "\n",
    "\n",
    "    \n",
    "    if i  not in  val_inds:\n",
    "        train, val = train_test_split(tmp, test_size=0.02)\n",
    "\n",
    "        train, train_docks = prepare_dataframe(train)\n",
    "        val, val_docks = prepare_dataframe(val)\n",
    "\n",
    "        scaler = RobustScaler()\n",
    "        \n",
    "        train[train.columns[:-1]] = scaler.fit_transform(train[train.columns[:-1]])\n",
    "        val[val.columns[:-1]] = scaler.transform(val[val.columns[:-1]])\n",
    "\n",
    "        trains.append(train)\n",
    "        vals.append(val)\n",
    "\n",
    "        train_docks_list.append(train_docks)\n",
    "        val_docks_list.append(val_docks)\n",
    "\n",
    "        scalers.append(scaler)\n",
    "        \n",
    "        del tmp\n",
    "    elif i == val_inds[0]:\n",
    "        val_set = tmp.copy()\n",
    "\n",
    "\n",
    "        val_set, val_set_docks = prepare_dataframe(val_set)\n",
    "    else:\n",
    "        print('found val set two')\n",
    "        val_set_two = tmp.copy()\n",
    "\n",
    "\n",
    "        val_set_two, val_set_docks_two = prepare_dataframe(val_set_two)\n"
   ]
  },
  {
   "cell_type": "markdown",
   "id": "99de7413",
   "metadata": {},
   "source": [
    "## Fit a model for each station on its training set"
   ]
  },
  {
   "cell_type": "code",
   "execution_count": 4,
   "id": "cc560ce4",
   "metadata": {},
   "outputs": [
    {
     "name": "stdout",
     "output_type": "stream",
     "text": [
      "initialised\n"
     ]
    },
    {
     "name": "stderr",
     "output_type": "stream",
     "text": [
      "100%|████████████████████████████████████████████| 73/73 [00:24<00:00,  3.02it/s]"
     ]
    },
    {
     "name": "stdout",
     "output_type": "stream",
     "text": [
      "fitted in 24.214744091033936s\n"
     ]
    },
    {
     "name": "stderr",
     "output_type": "stream",
     "text": [
      "\n"
     ]
    }
   ],
   "source": [
    "from time import time\n",
    "from tqdm import tqdm\n",
    "start = time()\n",
    "print(\"initialised\")\n",
    "\n",
    "models = []\n",
    "\n",
    "for i in tqdm(range(len(trains))):\n",
    "    #forest_boost = AdaBoostRegressor(n_estimators=400, random_state=0, learning_rate = 0.5)\n",
    "    forest_boost = RandomForestRegressor(n_estimators= 200, max_depth= 9)\n",
    "    #forest_boost = GradientBoostingRegressor(n_estimators= 150, max_depth= 3, learning_rate= 0.1, loss=\"squared_error\")#\n",
    "    forest_boost.fit(trains[i].iloc[:,:-1].to_numpy(), trains[i][\"bikes\"].to_numpy())\n",
    "    \n",
    "    models.append(forest_boost)\n",
    "print(f'fitted in {time() - start}s')"
   ]
  },
  {
   "cell_type": "code",
   "execution_count": 5,
   "id": "f445e393",
   "metadata": {},
   "outputs": [
    {
     "name": "stderr",
     "output_type": "stream",
     "text": [
      "100%|████████████████████████████████████████████| 73/73 [00:01<00:00, 66.62it/s]"
     ]
    },
    {
     "name": "stdout",
     "output_type": "stream",
     "text": [
      "Non-rounded ensemble error: 1.7763721951123324\n",
      "Rounded ensemble error: 1.7636986301369864\n"
     ]
    },
    {
     "name": "stderr",
     "output_type": "stream",
     "text": [
      "\n"
     ]
    }
   ],
   "source": [
    "import matplotlib.pyplot as plt\n",
    "\n",
    "errors = []\n",
    "rounded_errors = []\n",
    "y_pred = []\n",
    "y_gold = []\n",
    "\n",
    "for i in tqdm(range(len(vals))):\n",
    "    errors.append(score_abs_error(models[i], vals[i], val_docks_list[i]))\n",
    "    rounded_errors.append(score_abs_error(models[i], vals[i], val_docks_list[i], round_ = True))\n",
    "    \n",
    "    pred = list(models[i].predict(vals[i].iloc[:, :-1].to_numpy()))# * val_docks_list[i])\n",
    "    \n",
    "    y_pred = y_pred + pred\n",
    "    \n",
    "    y_gold = y_gold + list(vals[i][\"bikes\"])# * val_docks_list[i])\n",
    "    \n",
    "print(f'Non-rounded ensemble error: {np.mean(errors)}')\n",
    "print(f'Rounded ensemble error: {np.mean(rounded_errors)}')"
   ]
  },
  {
   "cell_type": "code",
   "execution_count": 6,
   "id": "8280001d",
   "metadata": {},
   "outputs": [
    {
     "data": {
      "image/png": "[encoded data removed]",
      "text/plain": [
       "<Figure size 432x288 with 1 Axes>"
      ]
     },
     "metadata": {
      "needs_background": "light"
     },
     "output_type": "display_data"
    }
   ],
   "source": [
    "model_weights = np.array(errors)\n",
    "model_weights = 1/ model_weights**(2)\n",
    "model_weights = model_weights / np.sum(model_weights)\n",
    "\n",
    "\n",
    "plt.hist(model_weights, bins=30)\n",
    "plt.title(\"Model weights pre-adjustment\")\n",
    "plt.show()"
   ]
  },
  {
   "cell_type": "code",
   "execution_count": 7,
   "id": "2be92492",
   "metadata": {},
   "outputs": [
    {
     "name": "stdout",
     "output_type": "stream",
     "text": [
      "Validation error pre re-tuning:  4.999500925746927\n"
     ]
    }
   ],
   "source": [
    "def ensemble_validation_errors(models, scalers, x, y,  docks):\n",
    "    results = np.zeros(len(models))\n",
    "    \n",
    "    for i, m in enumerate(models):\n",
    "\n",
    "        x_i = scalers[i].transform(x)\n",
    "        \n",
    "        results[i] = mean_absolute_error(m.predict(x_i),y)# * docks, y*docks)\n",
    "\n",
    "    return results\n",
    "\n",
    "\n",
    "validation_errors = ensemble_validation_errors(models, scalers, val_set.iloc[:, :-1], val_set[\"bikes\"], val_set_docks)\n",
    "\n",
    "print(f'Validation error pre re-tuning:  {np.mean(validation_errors)}')\n",
    "\n",
    "model_weights = model_weights / validation_errors**2\n",
    "model_weights = model_weights / np.sum(model_weights)\n"
   ]
  },
  {
   "cell_type": "code",
   "execution_count": 8,
   "id": "6fd12e7d",
   "metadata": {},
   "outputs": [
    {
     "name": "stdout",
     "output_type": "stream",
     "text": [
      "\n",
      "Error on second holdout station: 2.073630617529239\n"
     ]
    }
   ],
   "source": [
    "def ensemble_predict(models, scalers, model_weights, x):\n",
    "    results = np.zeros(x.shape[0])\n",
    "\n",
    "    for i, m in enumerate(models):\n",
    "\n",
    "        x_i = scalers[i].transform(x)\n",
    "        \n",
    "        results = results + m.predict(x_i) * model_weights[i]\n",
    "\n",
    "    return results\n",
    "\n",
    "y_pred = ensemble_predict(models, scalers, model_weights, val_set_two.iloc[:,:-1]) #* val_set_docks_two\n",
    "\n",
    "val_gold_two = val_set_two[\"bikes\"].to_numpy()# * val_set_docks_two\n",
    "\n",
    "print(f'\\nError on second holdout station: {mean_absolute_error(val_gold_two, y_pred)}')"
   ]
  },
  {
   "cell_type": "code",
   "execution_count": 9,
   "id": "8e191ae0",
   "metadata": {},
   "outputs": [],
   "source": [
    "test = pd.read_csv('test.csv')\n",
    "\n",
    "ids = test[\"Id\"]\n",
    "\n",
    "del test[\"Id\"]\n",
    "\n",
    "test, test_docks = prepare_dataframe(test)\n",
    "\n",
    "y_pred = np.around(ensemble_predict(models, scalers, model_weights, test)).astype(np.int32)\n",
    "\n",
    "\n",
    "sub_df = pd.DataFrame(data=y_pred, index = ids, columns = [\"bikes\"])\n",
    "\n",
    "sub_df.index.name = 'Id'\n",
    "\n",
    "sub_df.to_csv(\"submission.csv\")"
   ]
  },
  {
   "cell_type": "code",
   "execution_count": null,
   "id": "cfc21464",
   "metadata": {},
   "outputs": [],
   "source": []
  }
 ],
 "metadata": {
  "kernelspec": {
   "display_name": "Python 3 (ipykernel)",
   "language": "python",
   "name": "python3"
  },
  "language_info": {
   "codemirror_mode": {
    "name": "ipython",
    "version": 3
   },
   "file_extension": ".py",
   "mimetype": "text/x-python",
   "name": "python",
   "nbconvert_exporter": "python",
   "pygments_lexer": "ipython3",
   "version": "3.9.7"
  }
 },
 "nbformat": 4,
 "nbformat_minor": 5
}
