{
 "cells": [
  {
   "cell_type": "code",
   "execution_count": null,
   "id": "1319e22b",
   "metadata": {},
   "outputs": [],
   "source": [
    "from pathlib import Path\n",
    "import pandas as pd\n",
    "import numpy as np\n",
    "\n",
    "from sklearn.ensemble import RandomForestRegressor"
   ]
  },
  {
   "cell_type": "code",
   "execution_count": null,
   "id": "990e7c66",
   "metadata": {},
   "outputs": [],
   "source": [
    "def replace_nan(df):\n",
    "    # get a list of all the columns containing NaN\n",
    "    nan_cols = df[df.columns[df.isnull().any()]].columns\n",
    "    # compute and fill each NaN with the columns mean    \n",
    "    df[nan_cols] = df[nan_cols].fillna(value=df[nan_cols].mean())\n",
    "\n",
    "    \n",
    "def show_nans(df):\n",
    "    print(np.unique(df['station']))\n",
    "    print(df[df.columns[df.isnull().any()]].columns)\n",
    "    print()\n",
    "    \n",
    "\n",
    "# converting weekdays into integers [1-7]\n",
    "def convert_weekdays(df):\n",
    "    df = df.replace(\n",
    "    ['Monday', 'Tuesday', 'Wednesday', 'Thursday', 'Friday', 'Saturday', 'Sunday'],\n",
    "    [1, 2, 3, 4, 5, 6, 7], inplace=True)"
   ]
  },
  {
   "cell_type": "code",
   "execution_count": null,
   "id": "4e53f694",
   "metadata": {},
   "outputs": [],
   "source": [
    "# Adding all files into one DataFrame\n",
    "df = []\n",
    "for path in Path('./Train/Train').rglob('*.csv'):\n",
    "    tmp = pd.read_csv(path)\n",
    "    # comment next line if not averaging NaNs  \n",
    "#     show_nans(tmp)\n",
    "    replace_nan(tmp)\n",
    "    df.append(tmp)\n",
    "\n",
    "df = pd.concat(df, ignore_index=True)\n",
    "\n",
    "convert_weekdays(df)\n",
    "\n",
    "# deleting unneeded columns\n",
    "del df[\"month\"]\n",
    "del df[\"year\"]\n",
    "\n",
    "# comment next line if not dropping NaNs\n",
    "# df = df.dropna(axis='rows')\n",
    "\n",
    "# See all Rows/Cols\n",
    "# pd.set_option('display.max_columns', 23)\n",
    "pd.set_option('display.max_rows', 23)"
   ]
  },
  {
   "cell_type": "code",
   "execution_count": null,
   "id": "83cef40f",
   "metadata": {},
   "outputs": [],
   "source": [
    "df"
   ]
  },
  {
   "cell_type": "code",
   "execution_count": null,
   "id": "d38d9ac5",
   "metadata": {},
   "outputs": [],
   "source": [
    "df.isnull().any()"
   ]
  },
  {
   "cell_type": "code",
   "execution_count": null,
   "id": "995e2b3b",
   "metadata": {},
   "outputs": [],
   "source": [
    "forest = RandomForestRegressor(n_jobs=6)\n",
    "\n",
    "forest.fit(df.iloc[:,:-1], df[\"bikes\"])\n",
    "\n"
   ]
  },
  {
   "cell_type": "code",
   "execution_count": null,
   "id": "6dd35c50",
   "metadata": {},
   "outputs": [],
   "source": [
    "importances = forest.feature_importances_\n",
    "\n",
    "imp_indexes = np.argsort(importances)[::-1]\n",
    "\n",
    "print(df.columns[imp_indexes])\n",
    "print(importances[imp_indexes])"
   ]
  },
  {
   "cell_type": "code",
   "execution_count": null,
   "id": "0abcb096",
   "metadata": {},
   "outputs": [],
   "source": [
    "\n",
    "import matplotlib.pyplot as plt\n",
    "\n",
    "\n",
    "fig = plt.figure(figsize=(16,8))\n",
    "plt.scatter(df[\"bikes_3h_ago\"], df[\"bikes\"], alpha=0.5)\n",
    "plt.show()"
   ]
  },
  {
   "cell_type": "code",
   "execution_count": null,
   "id": "b59c66ab",
   "metadata": {},
   "outputs": [],
   "source": [
    "import seaborn as sns\n",
    "\n",
    "sns.jointplot(\n",
    "    data=df,\n",
    "    x=\"bikes_3h_ago\", y=\"bikes\",# hue=\"weekday\",\n",
    "    kind=\"kde\"\n",
    ")"
   ]
  },
  {
   "cell_type": "markdown",
   "id": "e5ec9598",
   "metadata": {},
   "source": [
    "# Baseline - bikes = bikes three hours ago\n"
   ]
  },
  {
   "cell_type": "code",
   "execution_count": null,
   "id": "6550f83b",
   "metadata": {},
   "outputs": [],
   "source": [
    "uniques = np.unique(df[\"station\"], return_counts=True)"
   ]
  },
  {
   "cell_type": "markdown",
   "id": "8ee5b41d",
   "metadata": {},
   "source": [
    "There are very few datapoints for each station compared to the number of attributes\n",
    "\n",
    "This means that ensemble models would rapidly over-parameterise\n"
   ]
  },
  {
   "cell_type": "code",
   "execution_count": null,
   "id": "f41fdefc",
   "metadata": {},
   "outputs": [],
   "source": [
    "df_station = df[df[\"station\"] == 201]\n",
    "\n",
    "plt.plot(df_station[\"timestamp\"], df_station[\"bikes\"])\n",
    "%plt.plot(df_station[\"timestamp\"], df_station[\"bikes_3h_ago\"])"
   ]
  },
  {
   "cell_type": "code",
   "execution_count": null,
   "id": "86b73166",
   "metadata": {},
   "outputs": [],
   "source": []
  },
  {
   "cell_type": "code",
   "execution_count": null,
   "id": "9eac52a2",
   "metadata": {},
   "outputs": [],
   "source": []
  }
 ],
 "metadata": {
  "kernelspec": {
   "display_name": "Python 3 (ipykernel)",
   "language": "python",
   "name": "python3"
  },
  "language_info": {
   "codemirror_mode": {
    "name": "ipython",
    "version": 3
   },
   "file_extension": ".py",
   "mimetype": "text/x-python",
   "name": "python",
   "nbconvert_exporter": "python",
   "pygments_lexer": "ipython3",
   "version": "3.8.8"
  }
 },
 "nbformat": 4,
 "nbformat_minor": 5
}
